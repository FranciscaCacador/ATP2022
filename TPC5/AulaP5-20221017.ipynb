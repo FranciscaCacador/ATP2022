{
 "cells": [
  {
   "cell_type": "markdown",
   "id": "1e545158",
   "metadata": {},
   "source": [
    "# Aula Prática 5 (guião)\n",
    "### Semana de 17 a 21 de Outubro de 2022\n",
    "### José Carlos Ramalho e Luís Cunha\n",
    "### Sinopsis:\n",
    "Algoritmos e modelação de problemas com armazenamento em memória secundária."
   ]
  },
  {
   "cell_type": "markdown",
   "id": "1d9c2fbc",
   "metadata": {},
   "source": [
    "### Exercício 1: Polinómios\n",
    "\n",
    "Neste exercício, desenvolva as seguintes alíneas:"
   ]
  },
  {
   "cell_type": "markdown",
   "id": "8ef1ac42",
   "metadata": {},
   "source": [
    "#### a) Pense num modelo para polinómios e instancia os seguintes exemplos:\n",
    "\n",
    "* `x`\n",
    "* `2x + 1`\n",
    "* `7x^5 + 6x^3 - 2x^2 + 27`"
   ]
  },
  {
   "cell_type": "code",
   "execution_count": 2,
   "id": "854085f7",
   "metadata": {},
   "outputs": [],
   "source": [
    "# Solução de 1.a)\n",
    "#Polinomio=[Termo]\n",
    "#Termo=(coeficiente,grau)\n",
    "polinomio1=[(1,1)]\n",
    "polinomio2=[(2,1),(1,0)]\n",
    "polinomio3=[(7,5),(6,3),(-2,2),(27,0)]\n",
    "polinomio4=[(2,4),(2,6)]"
   ]
  },
  {
   "cell_type": "markdown",
   "id": "fdc3ff66",
   "metadata": {},
   "source": [
    "#### b) Defina uma função, ou funções, que pede ao utilizador a informação necessária para criar um polinómio, cria esse polinómio e devolve-o como resultado"
   ]
  },
  {
   "cell_type": "code",
   "execution_count": 4,
   "id": "fb44546a",
   "metadata": {},
   "outputs": [
    {
     "data": {
      "text/plain": [
       "[(5, 3), (4, 2)]"
      ]
     },
     "execution_count": 4,
     "metadata": {},
     "output_type": "execute_result"
    }
   ],
   "source": [
    "# Solução de 1.b)\n",
    "def criaPolIn():\n",
    "    pol=[]\n",
    "    grau=int(input('Introduza o grau do polinómio:'))\n",
    "    while grau>=0:\n",
    "        coeficiente=int(input('Introduza o coeficiente do grau'+ str(grau)))\n",
    "        if coeficiente!=0:\n",
    "            monomio=(coeficiente,grau)\n",
    "            pol.append(monomio)\n",
    "        grau=grau-1\n",
    "    return pol\n",
    "criaPolIn()"
   ]
  },
  {
   "cell_type": "markdown",
   "id": "9d3475e4",
   "metadata": {},
   "source": [
    "#### c) Defina uma função que calcula o valor do polinómio dado um valor de `x`"
   ]
  },
  {
   "cell_type": "code",
   "execution_count": 15,
   "id": "c4c8dc32",
   "metadata": {},
   "outputs": [
    {
     "name": "stdout",
     "output_type": "stream",
     "text": [
      "7\n",
      "5\n",
      "38\n",
      "0\n",
      "1\n",
      "2\n",
      "3\n",
      "4\n",
      "5\n",
      "6\n",
      "7\n",
      "8\n",
      "9\n"
     ]
    }
   ],
   "source": [
    "# Solução de 1.c)\n",
    "def pot(b,e):\n",
    "    resultado= 1\n",
    "    while e>0:\n",
    "        resultado=resultado*b\n",
    "        e=e-1\n",
    "    return resultado\n",
    "\n",
    "def calcPolinomio(p,x):\n",
    "    resultado=0\n",
    "    for termo in p:\n",
    "        coeficiente,grau=termo\n",
    "        resultado= coeficiente*pot(x,grau)+resultado\n",
    "    return resultado\n",
    "print(calcPolinomio(polinomio1,7))\n",
    "print(calcPolinomio(polinomio2,2))\n",
    "print(calcPolinomio(polinomio3,1))\n",
    "\n",
    "for i in range(0,10):\n",
    "    print(calcPolinomio(polinomio1,i))"
   ]
  },
  {
   "cell_type": "markdown",
   "id": "5fa6de75",
   "metadata": {},
   "source": [
    "#### d) Defina uma função que imprima no monitor o polinómio"
   ]
  },
  {
   "cell_type": "code",
   "execution_count": 19,
   "id": "b0716c72",
   "metadata": {},
   "outputs": [
    {
     "name": "stdout",
     "output_type": "stream",
     "text": [
      "+2x^1+1\n"
     ]
    }
   ],
   "source": [
    "# Solução de 1.d)\n",
    "def verPolinomio(p):\n",
    "    for termo in p:\n",
    "        coeficiente,grau=termo\n",
    "        if grau!=0:\n",
    "            print('+' +str(coeficiente)+'x^' +str(grau),end='')\n",
    "        else:\n",
    "            print('+' +str(coeficiente))\n",
    "    return\n",
    "verPolinomio(polinomio2)"
   ]
  },
  {
   "cell_type": "markdown",
   "id": "beb31acc",
   "metadata": {},
   "source": [
    "#### e) Defina uma função que calcula o grau de um polinómio dado"
   ]
  },
  {
   "cell_type": "code",
   "execution_count": 9,
   "id": "09816d6e",
   "metadata": {},
   "outputs": [
    {
     "name": "stdout",
     "output_type": "stream",
     "text": [
      "1\n",
      "1\n",
      "5\n",
      "6\n"
     ]
    }
   ],
   "source": [
    "# Solução de 1.e)\n",
    "def grauPolinomio(p):\n",
    "    maior=0\n",
    "    for monomio in p:\n",
    "        for grau in monomio:\n",
    "            coeficiente,grau=monomio\n",
    "            if grau>maior:\n",
    "                maior=grau\n",
    "    return maior\n",
    "print(grauPolinomio(polinomio1))\n",
    "print(grauPolinomio(polinomio2))\n",
    "print(grauPolinomio(polinomio3))\n",
    "print(grauPolinomio(polinomio4))"
   ]
  },
  {
   "cell_type": "markdown",
   "id": "0cfe33d8",
   "metadata": {},
   "source": [
    "#### f) Defina uma função que imprime no monitor uma tabela com n linhas: x | p(x)"
   ]
  },
  {
   "cell_type": "code",
   "execution_count": 22,
   "id": "3619f63c",
   "metadata": {},
   "outputs": [
    {
     "name": "stdout",
     "output_type": "stream",
     "text": [
      "0 | 1\n",
      "1 | 3\n",
      "2 | 5\n",
      "3 | 7\n",
      "4 | 9\n",
      "5 | 11\n",
      "6 | 13\n",
      "7 | 15\n"
     ]
    }
   ],
   "source": [
    "# Solução de 1.f)\n",
    "def tabela(p, linhas):\n",
    "    i=0\n",
    "    while i< linhas:\n",
    "        print(i, '|', calcPolinomio(p,i))\n",
    "        i=i+1\n",
    "    return\n",
    "tabela(polinomio2,8)\n"
   ]
  },
  {
   "cell_type": "markdown",
   "id": "df16478c",
   "metadata": {},
   "source": [
    "#### g) Define uma função que dado um polinómio calcula a sua derivada"
   ]
  },
  {
   "cell_type": "code",
   "execution_count": 20,
   "id": "6bd99681",
   "metadata": {},
   "outputs": [
    {
     "name": "stdout",
     "output_type": "stream",
     "text": [
      "+35x^4+18x^2+-4x^1+0\n",
      "None\n",
      "+8x^1+12x^5None\n"
     ]
    }
   ],
   "source": [
    "# Solução de 1.g)\n",
    "def derivarPolinomio(p):\n",
    "    for monomio in p:\n",
    "        coeficiente,grau=monomio\n",
    "        if grau!=0:\n",
    "            print('+' +str(coeficiente*grau)+'x^' +str(grau-1),end='') \n",
    "        elif grau==0:\n",
    "            print('+' +str(coeficiente*grau))\n",
    "    return\n",
    "print(derivarPolinomio(polinomio3))\n",
    "print(derivarPolinomio(polinomio4))"
   ]
  },
  {
   "cell_type": "markdown",
   "id": "a582ac17",
   "metadata": {},
   "source": [
    "#### h) Defina uma função para guardar um polinómio num ficheiro"
   ]
  },
  {
   "cell_type": "code",
   "execution_count": 24,
   "id": "40fd1820",
   "metadata": {},
   "outputs": [],
   "source": [
    "filename=\"ficheiro.txt\"\n",
    "file=open(filename,'w')\n",
    "file.write('Hello World!')\n",
    "file.close()"
   ]
  },
  {
   "cell_type": "code",
   "execution_count": 25,
   "id": "47e85622",
   "metadata": {},
   "outputs": [
    {
     "name": "stdout",
     "output_type": "stream",
     "text": [
      "Hello World!\n"
     ]
    }
   ],
   "source": [
    "file2=open(filename,'r')\n",
    "for linha in file2:\n",
    "    print(linha)"
   ]
  },
  {
   "cell_type": "code",
   "execution_count": 3,
   "id": "2b3f58dd",
   "metadata": {},
   "outputs": [],
   "source": [
    "# Solução de 1.h)\n",
    "def guardarPolinomio(listap, fnome):\n",
    "    file=open(fnome,'w')\n",
    "    for pol in listap:\n",
    "        for termo in pol:\n",
    "            coeficiente,grau=termo\n",
    "            file.write(str(coeficiente)+';'+str(grau))\n",
    "            file.write('#')\n",
    "        file.write('\\n')\n",
    "    file.close()\n",
    "    return\n",
    "guardarPolinomio([polinomio1,polinomio2,polinomio3],'polinomios')"
   ]
  },
  {
   "cell_type": "markdown",
   "id": "7f7d1410",
   "metadata": {},
   "source": [
    "#### i) Defina uma função para recuperar um polinómio dum ficheiro"
   ]
  },
  {
   "cell_type": "code",
   "execution_count": 1,
   "id": "72081c41",
   "metadata": {},
   "outputs": [
    {
     "name": "stdout",
     "output_type": "stream",
     "text": [
      "[[('1', '1')], [('2', '1'), ('1', '0')], [('7', '5'), ('6', '3'), ('-2', '2'), ('27', '0')]]\n"
     ]
    }
   ],
   "source": [
    "# Solução de 1.i)\n",
    "def recuperarPolinomio(fnome):\n",
    "    file2=open(fnome,'r')\n",
    "    listaGrande=[]\n",
    "    for line in file2:\n",
    "        listapolinomio=[]\n",
    "        termos=line.split('#')\n",
    "        for t in termos:\n",
    "            elems=t.split(';')\n",
    "            if len(elems)==2:\n",
    "                coeficiente=elems[0]\n",
    "                grau=elems[1]\n",
    "                termo=(coeficiente,grau)\n",
    "                listapolinomio.append(termo)\n",
    "        listaGrande.append(listapolinomio)\n",
    "    return listaGrande\n",
    "listaPol2=recuperarPolinomio('polinomios')\n",
    "print(listaPol2)"
   ]
  },
  {
   "cell_type": "markdown",
   "id": "fed2fbc4",
   "metadata": {},
   "source": [
    "#### j) Baseando-se nas funções até agora criadas, crie novas funções para manipular listas de polinómios: criar, ver, guardar e recuperar"
   ]
  },
  {
   "cell_type": "code",
   "execution_count": 19,
   "id": "986c8587",
   "metadata": {},
   "outputs": [],
   "source": [
    "# Solução de 1.j)\n",
    "# ..."
   ]
  },
  {
   "cell_type": "markdown",
   "id": "6bea73df",
   "metadata": {},
   "source": [
    "#### k) Junte todas as funções num módulo, `polinomios.py`, e usa-o num pequeno programa exemplo"
   ]
  },
  {
   "cell_type": "code",
   "execution_count": null,
   "id": "82a2401b",
   "metadata": {},
   "outputs": [],
   "source": [
    "# Solução de 1.k)"
   ]
  },
  {
   "cell_type": "markdown",
   "id": "4193a91b",
   "metadata": {},
   "source": [
    "### TPC5: Análise de dados: doença cardíaca\n",
    "\n",
    "Descarregue o ficheiro de dados: `myheart.csv`\n",
    "Crie um programa em Python, conjunto de funções, que responda às seguintes questões:\n",
    "* Crie uma função que lê a informação do ficheiro para um modelo, previamente pensado em memória;\n",
    "* Crie uma função que calcula a distribuição da doença por sexo;\n",
    "* Crie uma função que calcula a distribuição da doença por escalões etários. Considere os seguintes escalões: [30-34], [35-39], [40-44], ...\n",
    "* Crie uma função que calcula a distribuição da doença por níveis de colesterol. Considere um nível igual a um intervalo de 10 unidades, comece no limite inferior e crie os níveis necessários até abranger o limite superior;\n",
    "* Crie uma função que imprime na forma de uma tabela uma distribuição;\n",
    "* Especifique um programa que ao executar apresenta as tabelas correspondentes às distribuições pedidas."
   ]
  },
  {
   "cell_type": "code",
   "execution_count": 1,
   "id": "254b4129",
   "metadata": {},
   "outputs": [
    {
     "name": "stdout",
     "output_type": "stream",
     "text": [
      " Menu de opções:\n",
      "    [1]- Lê a informação do ficheiro que estamos a utilizar\n",
      "    [2]- Distribuição da doença por sexo\n",
      "    [3]- Distribuição da doença por escalões etários\n",
      "    [4]- Distribuição da doença por níveis de colesterol\n",
      "    [5]- Escolhe uma das distribuições\n",
      "    [0]- Sair\n",
      "A sua escolha foi 5\n",
      "[1]-Distribuição da doença por sexo\n",
      " [2]-Distribuição da doença por faixas etárias\n",
      " [3]-Distribuição da doença por nével de colesterol\n",
      "\n",
      "A opção escolhida foi 3- Distribuição da doença por nível de colesterol\n",
      "nível de colesterol   |  número de pessoas doentes\n",
      "[30,34]     | 6\n",
      "[35-39]     | 19\n",
      "[40-44]     | 27\n",
      "[45-49]     | 51\n",
      "[50-54]     | 83\n",
      "[55-59]     | 114\n",
      "[60-64]     | 101\n",
      "[65-69]     | 45\n",
      "[70-74]     | 17\n",
      "[75-79]     | 5\n",
      "A opção primeiramente escolhida fechou\n",
      "None\n",
      " Menu de opções:\n",
      "    [1]- Lê a informação do ficheiro que estamos a utilizar\n",
      "    [2]- Distribuição da doença por sexo\n",
      "    [3]- Distribuição da doença por escalões etários\n",
      "    [4]- Distribuição da doença por níveis de colesterol\n",
      "    [5]- Escolhe uma das distribuições\n",
      "    [0]- Sair\n",
      "A sua escolha foi 0\n",
      "Fim do programa\n"
     ]
    }
   ],
   "source": [
    "import csv\n",
    "import tpc5 as t\n",
    "utilizador=6\n",
    "while utilizador!=0:\n",
    "    print(''' Menu de opções:\n",
    "    [1]- Lê a informação do ficheiro que estamos a utilizar\n",
    "    [2]- Distribuição da doença por sexo\n",
    "    [3]- Distribuição da doença por escalões etários\n",
    "    [4]- Distribuição da doença por níveis de colesterol\n",
    "    [5]- Escolhe uma das distribuições\n",
    "    [0]- Sair''')\n",
    "    utilizador=int(input('Qual das opções do menu escolhe?'))\n",
    "    print('A sua escolha foi', utilizador)\n",
    "    if utilizador>5:\n",
    "        print('Essa opção não faz parte do menu, escolha uma nova opção')\n",
    "    elif utilizador==1:\n",
    "        l=int(input('Escolhe uma linha para ler'))\n",
    "        def leInformaçao(filename,l):\n",
    "            res=[]\n",
    "            file=open(filename,'r')\n",
    "            linhas= csv.DictReader(file)\n",
    "            for linha in linhas:\n",
    "                res.append(linha)\n",
    "            file.close()\n",
    "            return res[l]\n",
    "        print(leInformaçao('myheart.csv',l))\n",
    "    elif utilizador==2:\n",
    "        def distS(filename):\n",
    "            file=open(filename)\n",
    "            linhas=csv.reader(file)\n",
    "            distrib1={}\n",
    "            for s in linhas:\n",
    "                if s[1] in distrib1.keys():\n",
    "                    if s[5]==str('1'):\n",
    "                        distrib1[s[1]]=distrib1[s[1]]+1\n",
    "                else:\n",
    "                    distrib1[s[1]]=distrib1[s[1]]\n",
    "            else:   \n",
    "                if s[5]==str('1'):\n",
    "                    distrib1[s[1]]=1\n",
    "            file.close()\n",
    "            return distrib1\n",
    "        print('O número de pessoas doentes em cada sexo é')\n",
    "        print(distS('myheart.csv')) \n",
    "    elif utilizador==3:\n",
    "        def ordenaValores(v):\n",
    "            return v[0]\n",
    "        def distI(filename):\n",
    "            file=open(filename)\n",
    "            linhas=csv.reader(file)\n",
    "            distrib1={}\n",
    "            for i in linhas:\n",
    "                if i[0] in distrib1.keys():\n",
    "                    if i[5]==str('1'):\n",
    "                        distrib1[i[0]]=distrib1[i[0]]+1\n",
    "                else:\n",
    "                    if i[5]==str('1'):\n",
    "                        distrib1[i[0]]=1\n",
    "                valores = list(distrib1.items())\n",
    "                valores.sort(key = ordenaValores)\n",
    "            f1='[30,34]',sum(x[1] for x in valores [:4])\n",
    "            f2='[35-39]',sum(x[1] for x in valores[4:9])\n",
    "            f3='[40-44]',sum(x[1] for x in valores[9:14])\n",
    "            f4='[45-49]',sum(x[1] for x in valores[14:19])\n",
    "            f5='[50-54]',sum(x[1] for x in valores[19:24])\n",
    "            f6='[55-59]',sum(x[1] for x in valores[24:29])\n",
    "            f7='[60-64]',sum(x[1] for x in valores[29:34])\n",
    "            f8='[65-69]',sum(x[1] for x in valores[34:39])\n",
    "            f9='[70-74]',sum(x[1] for x in valores[39:44])\n",
    "            f10='[75-79]',sum(x[1] for x in valores[44:])\n",
    "            distribfaixas=dict([f1,f2,f3,f4,f5,f6,f7,f8,f9,f10])\n",
    "            file.close()\n",
    "            return distribfaixas\n",
    "        print('O número de pessoas doentes por faixas etárias é')\n",
    "        print(distI('myheart.csv'))\n",
    "    elif utilizador==4:\n",
    "        def ordenaValores(v):\n",
    "            return v[0]\n",
    "        def distC(filename):\n",
    "            file=open(filename)\n",
    "            linhas=csv.reader(file)\n",
    "            distrib1={}\n",
    "            for i in linhas:\n",
    "                if i[3] in distrib1.keys():\n",
    "                    if i[5]==str('1'):\n",
    "                        distrib1[i[3]]=distrib1[i[3]]+1\n",
    "                else:\n",
    "                    if i[5]==str('1'):\n",
    "                        distrib1[i[3]]=1\n",
    "                valores = list(distrib1.items())\n",
    "                valores.sort(key = ordenaValores)\n",
    "            c0='[0,99]',sum(x[1] for x in valores[:1])\n",
    "            c1='[100-109]',sum(x[1] for x in valores[1:2])\n",
    "            c2='[110-119]',sum(x[1] for x in valores[2:5])\n",
    "            c3='[120-129]',sum(x[1] for x in valores[5:7])\n",
    "            c4='[130-139]',sum(x[1] for x in valores[7:8])\n",
    "            c5='[140-149]',sum(x[1] for x in valores[8:10])\n",
    "            c6='[150-159]',sum(x[1] for x in valores[10:13])\n",
    "            c7='[160-169]',sum(x[1] for x in valores[13:17])\n",
    "            c8='[170-179]',sum(x[1] for x in valores[17:24])\n",
    "            c9='[180-189]',sum(x[1] for x in valores[24:29])\n",
    "            c10='[190-199]',sum(x[1] for x in valores[29:36])\n",
    "            c11='[200-209]',sum(x[1] for x in valores [36:45])\n",
    "            c12='[210-219]',sum(x[1] for x in valores[45:54])\n",
    "            c13='[220-229]',sum(x[1] for x in valores[54:63])\n",
    "            c14='[230-239]',sum(x[1] for x in valores[63:72])\n",
    "            c15='[240-249]',sum(x[1] for x in valores[72:81])\n",
    "            c16='[250-259]',sum(x[1] for x in valores[81:88])\n",
    "            c17='[260-269]',sum(x[1] for x in valores[88:97])\n",
    "            c18='[270-279]',sum(x[1] for x in valores[97:105])\n",
    "            c19='[280-289]',sum(x[1] for x in valores[105:115])\n",
    "            c20='[290-299]',sum(x[1] for x in valores[115:124])\n",
    "            c21='[300-309]',sum(x[1] for x in valores [124:131])\n",
    "            c22='[310-319]',sum(x[1] for x in valores[131:137])\n",
    "            c23='[320-329]',sum(x[1] for x in valores[137:141])\n",
    "            c24='[330-339]',sum(x[1] for x in valores[141:148])\n",
    "            c25='[340-349]',sum(x[1] for x in valores[148:151])\n",
    "            c26='[350-359]',sum(x[1] for x in valores[151:152])\n",
    "            c27='[360-369]',sum(x[1] for x in valores[152:153])\n",
    "            c28='[380-389]',sum(x[1] for x in valores[153:155])\n",
    "            c29='[390-399]',sum(x[1] for x in valores[155:157])\n",
    "            c30='[400-409]',sum(x[1] for x in valores[157:160])\n",
    "            c31='[460-469]',sum(x[1] for x in valores[160:161])\n",
    "            c32='[490-499]',sum(x[1] for x in valores[161:162])\n",
    "            c33='[510-519]',sum(x[1] for x in valores[162:163])\n",
    "            c34='[520-529]',sum(x[1] for x in valores[163:164])\n",
    "            c35='[600-609]',sum(x[1] for x in valores[164:])\n",
    "            distribcolesterol=dict([c0,c1,c2,c3,c4,c5,c6,c7,c8,c9,c10,c11,c12,c13,c14,c15,c16,c17,c18,c19,c20,c21,c22,c23,c24,c25,c26,c27,c28,c29,c30,c31,c32,c33,c34,c35])\n",
    "            file.close()\n",
    "            return distribcolesterol\n",
    "        print('O número de pessoas doentes por nível de colesterol é')\n",
    "        print(distC('myheart.csv'))\n",
    "    elif utilizador==5:\n",
    "        print('[1]-Distribuição da doença por sexo\\n [2]-Distribuição da doença por faixas etárias\\n [3]-Distribuição da doença por nével de colesterol\\n' )\n",
    "        p=1\n",
    "        def criaTabela(p):\n",
    "            while p!=0:\n",
    "                p=int(input('Qual a distribuição que quer ver tabelada?'))\n",
    "                if p==1:\n",
    "                    print('A opção escolhida foi 1- Distribuição da doença por sexo')\n",
    "                    print('sexo          |   número de pessoas doentes')\n",
    "                    dicio1=list(t.distS('myheart.csv').items())\n",
    "                    for i in dicio1:\n",
    "                        print(i[0],'    | ', i[1])\n",
    "                if p==2:\n",
    "                    print('A opção escolhida foi 2- Distribuição da doença por faixas etárias')\n",
    "                    print('idade    |   número de pessoas doentes')\n",
    "                    dicio2=list(t.distI('myheart.csv').items())\n",
    "                    for i in dicio2:\n",
    "                        print(i[0],  '  | ', i[1])\n",
    "                if p==3:\n",
    "                    print('A opção escolhida foi 3- Distribuição da doença por nível de colesterol')\n",
    "                    print('nível de colesterol   |  número de pessoas doentes')\n",
    "                    dicio3=list(t.distI('myheart.csv').items())\n",
    "                    for i in dicio3:\n",
    "                        print(i[0],'    |', i[1])\n",
    "            if p==0:\n",
    "                print('A opção primeiramente escolhida fechou')\n",
    "        print(criaTabela(p))\n",
    "print('Fim do programa')"
   ]
  }
 ],
 "metadata": {
  "kernelspec": {
   "display_name": "Python 3.10.7 64-bit",
   "language": "python",
   "name": "python3"
  },
  "language_info": {
   "codemirror_mode": {
    "name": "ipython",
    "version": 3
   },
   "file_extension": ".py",
   "mimetype": "text/x-python",
   "name": "python",
   "nbconvert_exporter": "python",
   "pygments_lexer": "ipython3",
   "version": "3.10.7"
  },
  "vscode": {
   "interpreter": {
    "hash": "e16a3939e05d4836943be007319e38157f5bd6a615361bcba070558623fbf3cc"
   }
  }
 },
 "nbformat": 4,
 "nbformat_minor": 5
}
