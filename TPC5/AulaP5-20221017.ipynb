{
 "cells": [
  {
   "cell_type": "markdown",
   "id": "1e545158",
   "metadata": {},
   "source": [
    "# Aula Prática 5 (guião)\n",
    "### Semana de 17 a 21 de Outubro de 2022\n",
    "### José Carlos Ramalho e Luís Cunha\n",
    "### Sinopsis:\n",
    "Algoritmos e modelação de problemas com armazenamento em memória secundária."
   ]
  },
  {
   "cell_type": "markdown",
   "id": "1d9c2fbc",
   "metadata": {},
   "source": [
    "### Exercício 1: Polinómios\n",
    "\n",
    "Neste exercício, desenvolva as seguintes alíneas:"
   ]
  },
  {
   "cell_type": "markdown",
   "id": "8ef1ac42",
   "metadata": {},
   "source": [
    "#### a) Pense num modelo para polinómios e instancia os seguintes exemplos:\n",
    "\n",
    "* `x`\n",
    "* `2x + 1`\n",
    "* `7x^5 + 6x^3 - 2x^2 + 27`"
   ]
  },
  {
   "cell_type": "code",
   "execution_count": 2,
   "id": "854085f7",
   "metadata": {},
   "outputs": [],
   "source": [
    "# Solução de 1.a)\n",
    "#Polinomio=[Termo]\n",
    "#Termo=(coeficiente,grau)\n",
    "polinomio1=[(1,1)]\n",
    "polinomio2=[(2,1),(1,0)]\n",
    "polinomio3=[(7,5),(6,3),(-2,2),(27,0)]\n",
    "polinomio4=[(2,4),(2,6)]"
   ]
  },
  {
   "cell_type": "markdown",
   "id": "fdc3ff66",
   "metadata": {},
   "source": [
    "#### b) Defina uma função, ou funções, que pede ao utilizador a informação necessária para criar um polinómio, cria esse polinómio e devolve-o como resultado"
   ]
  },
  {
   "cell_type": "code",
   "execution_count": 4,
   "id": "fb44546a",
   "metadata": {},
   "outputs": [
    {
     "data": {
      "text/plain": [
       "[(5, 3), (4, 2)]"
      ]
     },
     "execution_count": 4,
     "metadata": {},
     "output_type": "execute_result"
    }
   ],
   "source": [
    "# Solução de 1.b)\n",
    "def criaPolIn():\n",
    "    pol=[]\n",
    "    grau=int(input('Introduza o grau do polinómio:'))\n",
    "    while grau>=0:\n",
    "        coeficiente=int(input('Introduza o coeficiente do grau'+ str(grau)))\n",
    "        if coeficiente!=0:\n",
    "            monomio=(coeficiente,grau)\n",
    "            pol.append(monomio)\n",
    "        grau=grau-1\n",
    "    return pol\n",
    "criaPolIn()"
   ]
  },
  {
   "cell_type": "markdown",
   "id": "9d3475e4",
   "metadata": {},
   "source": [
    "#### c) Defina uma função que calcula o valor do polinómio dado um valor de `x`"
   ]
  },
  {
   "cell_type": "code",
   "execution_count": 15,
   "id": "c4c8dc32",
   "metadata": {},
   "outputs": [
    {
     "name": "stdout",
     "output_type": "stream",
     "text": [
      "7\n",
      "5\n",
      "38\n",
      "0\n",
      "1\n",
      "2\n",
      "3\n",
      "4\n",
      "5\n",
      "6\n",
      "7\n",
      "8\n",
      "9\n"
     ]
    }
   ],
   "source": [
    "# Solução de 1.c)\n",
    "def pot(b,e):\n",
    "    resultado= 1\n",
    "    while e>0:\n",
    "        resultado=resultado*b\n",
    "        e=e-1\n",
    "    return resultado\n",
    "\n",
    "def calcPolinomio(p,x):\n",
    "    resultado=0\n",
    "    for termo in p:\n",
    "        coeficiente,grau=termo\n",
    "        resultado= coeficiente*pot(x,grau)+resultado\n",
    "    return resultado\n",
    "print(calcPolinomio(polinomio1,7))\n",
    "print(calcPolinomio(polinomio2,2))\n",
    "print(calcPolinomio(polinomio3,1))\n",
    "\n",
    "for i in range(0,10):\n",
    "    print(calcPolinomio(polinomio1,i))"
   ]
  },
  {
   "cell_type": "markdown",
   "id": "5fa6de75",
   "metadata": {},
   "source": [
    "#### d) Defina uma função que imprima no monitor o polinómio"
   ]
  },
  {
   "cell_type": "code",
   "execution_count": 19,
   "id": "b0716c72",
   "metadata": {},
   "outputs": [
    {
     "name": "stdout",
     "output_type": "stream",
     "text": [
      "+2x^1+1\n"
     ]
    }
   ],
   "source": [
    "# Solução de 1.d)\n",
    "def verPolinomio(p):\n",
    "    for termo in p:\n",
    "        coeficiente,grau=termo\n",
    "        if grau!=0:\n",
    "            print('+' +str(coeficiente)+'x^' +str(grau),end='')\n",
    "        else:\n",
    "            print('+' +str(coeficiente))\n",
    "    return\n",
    "verPolinomio(polinomio2)"
   ]
  },
  {
   "cell_type": "markdown",
   "id": "beb31acc",
   "metadata": {},
   "source": [
    "#### e) Defina uma função que calcula o grau de um polinómio dado"
   ]
  },
  {
   "cell_type": "code",
   "execution_count": 9,
   "id": "09816d6e",
   "metadata": {},
   "outputs": [
    {
     "name": "stdout",
     "output_type": "stream",
     "text": [
      "1\n",
      "1\n",
      "5\n",
      "6\n"
     ]
    }
   ],
   "source": [
    "# Solução de 1.e)\n",
    "def grauPolinomio(p):\n",
    "    maior=0\n",
    "    for monomio in p:\n",
    "        for grau in monomio:\n",
    "            coeficiente,grau=monomio\n",
    "            if grau>maior:\n",
    "                maior=grau\n",
    "    return maior\n",
    "print(grauPolinomio(polinomio1))\n",
    "print(grauPolinomio(polinomio2))\n",
    "print(grauPolinomio(polinomio3))\n",
    "print(grauPolinomio(polinomio4))"
   ]
  },
  {
   "cell_type": "markdown",
   "id": "0cfe33d8",
   "metadata": {},
   "source": [
    "#### f) Defina uma função que imprime no monitor uma tabela com n linhas: x | p(x)"
   ]
  },
  {
   "cell_type": "code",
   "execution_count": 22,
   "id": "3619f63c",
   "metadata": {},
   "outputs": [
    {
     "name": "stdout",
     "output_type": "stream",
     "text": [
      "0 | 1\n",
      "1 | 3\n",
      "2 | 5\n",
      "3 | 7\n",
      "4 | 9\n",
      "5 | 11\n",
      "6 | 13\n",
      "7 | 15\n"
     ]
    }
   ],
   "source": [
    "# Solução de 1.f)\n",
    "def tabela(p, linhas):\n",
    "    i=0\n",
    "    while i< linhas:\n",
    "        print(i, '|', calcPolinomio(p,i))\n",
    "        i=i+1\n",
    "    return\n",
    "tabela(polinomio2,8)\n"
   ]
  },
  {
   "cell_type": "markdown",
   "id": "df16478c",
   "metadata": {},
   "source": [
    "#### g) Define uma função que dado um polinómio calcula a sua derivada"
   ]
  },
  {
   "cell_type": "code",
   "execution_count": 20,
   "id": "6bd99681",
   "metadata": {},
   "outputs": [
    {
     "name": "stdout",
     "output_type": "stream",
     "text": [
      "+35x^4+18x^2+-4x^1+0\n",
      "None\n",
      "+8x^1+12x^5None\n"
     ]
    }
   ],
   "source": [
    "# Solução de 1.g)\n",
    "def derivarPolinomio(p):\n",
    "    for monomio in p:\n",
    "        coeficiente,grau=monomio\n",
    "        if grau!=0:\n",
    "            print('+' +str(coeficiente*grau)+'x^' +str(grau-1),end='') \n",
    "        elif grau==0:\n",
    "            print('+' +str(coeficiente*grau))\n",
    "    return\n",
    "print(derivarPolinomio(polinomio3))\n",
    "print(derivarPolinomio(polinomio4))"
   ]
  },
  {
   "cell_type": "markdown",
   "id": "a582ac17",
   "metadata": {},
   "source": [
    "#### h) Defina uma função para guardar um polinómio num ficheiro"
   ]
  },
  {
   "cell_type": "code",
   "execution_count": 24,
   "id": "40fd1820",
   "metadata": {},
   "outputs": [],
   "source": [
    "filename=\"ficheiro.txt\"\n",
    "file=open(filename,'w')\n",
    "file.write('Hello World!')\n",
    "file.close()"
   ]
  },
  {
   "cell_type": "code",
   "execution_count": 25,
   "id": "47e85622",
   "metadata": {},
   "outputs": [
    {
     "name": "stdout",
     "output_type": "stream",
     "text": [
      "Hello World!\n"
     ]
    }
   ],
   "source": [
    "file2=open(filename,'r')\n",
    "for linha in file2:\n",
    "    print(linha)"
   ]
  },
  {
   "cell_type": "code",
   "execution_count": 3,
   "id": "2b3f58dd",
   "metadata": {},
   "outputs": [],
   "source": [
    "# Solução de 1.h)\n",
    "def guardarPolinomio(listap, fnome):\n",
    "    file=open(fnome,'w')\n",
    "    for pol in listap:\n",
    "        for termo in pol:\n",
    "            coeficiente,grau=termo\n",
    "            file.write(str(coeficiente)+';'+str(grau))\n",
    "            file.write('#')\n",
    "        file.write('\\n')\n",
    "    file.close()\n",
    "    return\n",
    "guardarPolinomio([polinomio1,polinomio2,polinomio3],'polinomios')"
   ]
  },
  {
   "cell_type": "markdown",
   "id": "7f7d1410",
   "metadata": {},
   "source": [
    "#### i) Defina uma função para recuperar um polinómio dum ficheiro"
   ]
  },
  {
   "cell_type": "code",
   "execution_count": 1,
   "id": "72081c41",
   "metadata": {},
   "outputs": [
    {
     "name": "stdout",
     "output_type": "stream",
     "text": [
      "[[('1', '1')], [('2', '1'), ('1', '0')], [('7', '5'), ('6', '3'), ('-2', '2'), ('27', '0')]]\n"
     ]
    }
   ],
   "source": [
    "# Solução de 1.i)\n",
    "def recuperarPolinomio(fnome):\n",
    "    file2=open(fnome,'r')\n",
    "    listaGrande=[]\n",
    "    for line in file2:\n",
    "        listapolinomio=[]\n",
    "        termos=line.split('#')\n",
    "        for t in termos:\n",
    "            elems=t.split(';')\n",
    "            if len(elems)==2:\n",
    "                coeficiente=elems[0]\n",
    "                grau=elems[1]\n",
    "                termo=(coeficiente,grau)\n",
    "                listapolinomio.append(termo)\n",
    "        listaGrande.append(listapolinomio)\n",
    "    return listaGrande\n",
    "listaPol2=recuperarPolinomio('polinomios')\n",
    "print(listaPol2)"
   ]
  },
  {
   "cell_type": "markdown",
   "id": "fed2fbc4",
   "metadata": {},
   "source": [
    "#### j) Baseando-se nas funções até agora criadas, crie novas funções para manipular listas de polinómios: criar, ver, guardar e recuperar"
   ]
  },
  {
   "cell_type": "code",
   "execution_count": 19,
   "id": "986c8587",
   "metadata": {},
   "outputs": [],
   "source": [
    "# Solução de 1.j)\n",
    "# ..."
   ]
  },
  {
   "cell_type": "markdown",
   "id": "6bea73df",
   "metadata": {},
   "source": [
    "#### k) Junte todas as funções num módulo, `polinomios.py`, e usa-o num pequeno programa exemplo"
   ]
  },
  {
   "cell_type": "code",
   "execution_count": null,
   "id": "82a2401b",
   "metadata": {},
   "outputs": [],
   "source": [
    "# Solução de 1.k)"
   ]
  },
  {
   "cell_type": "markdown",
   "id": "4193a91b",
   "metadata": {},
   "source": [
    "### TPC5: Análise de dados: doença cardíaca\n",
    "\n",
    "Descarregue o ficheiro de dados: `myheart.csv`\n",
    "Crie um programa em Python, conjunto de funções, que responda às seguintes questões:\n",
    "* Crie uma função que lê a informação do ficheiro para um modelo, previamente pensado em memória;\n",
    "* Crie uma função que calcula a distribuição da doença por sexo;\n",
    "* Crie uma função que calcula a distribuição da doença por escalões etários. Considere os seguintes escalões: [30-34], [35-39], [40-44], ...\n",
    "* Crie uma função que calcula a distribuição da doença por níveis de colesterol. Considere um nível igual a um intervalo de 10 unidades, comece no limite inferior e crie os níveis necessários até abranger o limite superior;\n",
    "* Crie uma função que imprime na forma de uma tabela uma distribuição;\n",
    "* Especifique um programa que ao executar apresenta as tabelas correspondentes às distribuições pedidas."
   ]
  },
  {
   "cell_type": "code",
   "execution_count": null,
   "id": "5064d210",
   "metadata": {},
   "outputs": [],
   "source": [
    "def criartabela()"
   ]
  },
  {
   "cell_type": "code",
   "execution_count": 9,
   "id": "bb390c33",
   "metadata": {},
   "outputs": [
    {
     "name": "stdout",
     "output_type": "stream",
     "text": [
      "{'[0,99]': 152, '[100-109]': 1, '[110-119]': 3, '[120-129]': 2, '[130-139]': 1, '[140-149]': 2, '[150-159]': 3, '[160-169]': 6, '[170-179]': 10, '[180-189]': 8, '[190-199]': 11, '[200-209]': 19, '[210-219]': 29, '[220-229]': 24, '[230-239]': 25, '[240-249]': 21, '[250-259]': 18, '[260-269]': 24, '[270-279]': 18, '[280-289]': 26, '[290-299]': 14, '[300-309]': 12, '[310-319]': 8, '[320-329]': 4, '[330-339]': 8, '[340-349]': 5, '[350-359]': 1, '[360-369]': 1, '[380-389]': 2, '[390-399]': 2, '[400-409]': 3, '[460-469]': 1, '[490-499]': 1, '[510-519]': 1, '[520-529]': 1, '[600-609]': 1}\n"
     ]
    }
   ],
   "source": [
    "import csv\n",
    "def ordenaValores(v):\n",
    "    return v[0]\n",
    "def distI(filename):\n",
    "    file=open(filename)\n",
    "    linhas=csv.reader(file)\n",
    "    distrib1={}\n",
    "    for i in linhas:\n",
    "        if i[3] in distrib1.keys():\n",
    "            if i[5]==str('1'):\n",
    "                distrib1[i[3]]=distrib1[i[3]]+1\n",
    "        else:\n",
    "            if i[5]==str('1'):\n",
    "                distrib1[i[3]]=1\n",
    "        valores = list(distrib1.items())\n",
    "        valores.sort(key = ordenaValores)\n",
    "    c0='[0,99]',sum(x[1] for x in valores[:1])\n",
    "    c1='[100-109]',sum(x[1] for x in valores[1:2])\n",
    "    c2='[110-119]',sum(x[1] for x in valores[2:5])\n",
    "    c3='[120-129]',sum(x[1] for x in valores[5:7])\n",
    "    c4='[130-139]',sum(x[1] for x in valores[7:8])\n",
    "    c5='[140-149]',sum(x[1] for x in valores[8:10])\n",
    "    c6='[150-159]',sum(x[1] for x in valores[10:13])\n",
    "    c7='[160-169]',sum(x[1] for x in valores[13:17])\n",
    "    c8='[170-179]',sum(x[1] for x in valores[17:24])\n",
    "    c9='[180-189]',sum(x[1] for x in valores[24:29])\n",
    "    c10='[190-199]',sum(x[1] for x in valores[29:36])\n",
    "    c11='[200-209]',sum(x[1] for x in valores [36:45])\n",
    "    c12='[210-219]',sum(x[1] for x in valores[45:54])\n",
    "    c13='[220-229]',sum(x[1] for x in valores[54:63])\n",
    "    c14='[230-239]',sum(x[1] for x in valores[63:72])\n",
    "    c15='[240-249]',sum(x[1] for x in valores[72:81])\n",
    "    c16='[250-259]',sum(x[1] for x in valores[81:88])\n",
    "    c17='[260-269]',sum(x[1] for x in valores[88:97])\n",
    "    c18='[270-279]',sum(x[1] for x in valores[97:105])\n",
    "    c19='[280-289]',sum(x[1] for x in valores[105:115])\n",
    "    c20='[290-299]',sum(x[1] for x in valores[115:124])\n",
    "    c21='[300-309]',sum(x[1] for x in valores [124:131])\n",
    "    c22='[310-319]',sum(x[1] for x in valores[131:137])\n",
    "    c23='[320-329]',sum(x[1] for x in valores[137:141])\n",
    "    c24='[330-339]',sum(x[1] for x in valores[141:148])\n",
    "    c25='[340-349]',sum(x[1] for x in valores[148:151])\n",
    "    c26='[350-359]',sum(x[1] for x in valores[151:152])\n",
    "    c27='[360-369]',sum(x[1] for x in valores[152:153])\n",
    "    c28='[380-389]',sum(x[1] for x in valores[153:155])\n",
    "    c29='[390-399]',sum(x[1] for x in valores[155:157])\n",
    "    c30='[400-409]',sum(x[1] for x in valores[157:160])\n",
    "    c31='[460-469]',sum(x[1] for x in valores[160:161])\n",
    "    c32='[490-499]',sum(x[1] for x in valores[161:162])\n",
    "    c33='[510-519]',sum(x[1] for x in valores[162:163])\n",
    "    c34='[520-529]',sum(x[1] for x in valores[163:164])\n",
    "    c35='[600-609]',sum(x[1] for x in valores[164:])\n",
    "    distribcolesterol=dict([c0,c1,c2,c3,c4,c5,c6,c7,c8,c9,c10,c11,c12,c13,c14,c15,c16,c17,c18,c19,c20,c21,c22,c23,c24,c25,c26,c27,c28,c29,c30,c31,c32,c33,c34,c35])\n",
    "    file.close()\n",
    "    return distribcolesterol\n",
    "print(distI('myheart.csv'))"
   ]
  },
  {
   "cell_type": "code",
   "execution_count": 4,
   "id": "dcf63ded",
   "metadata": {},
   "outputs": [
    {
     "name": "stdout",
     "output_type": "stream",
     "text": [
      "{'[30,34]': 6, '[35-39]': 19, '[40-44]': 27, '[45-49]': 51, '[50-54]': 83, '[55-59]': 114, '[60-64]': 101, '[65-69]': 45, '[70-74]': 17, '[75-79]': 5}\n"
     ]
    }
   ],
   "source": [
    "import csv\n",
    "def ordenaValores(v):\n",
    "    return v[0]\n",
    "def distI(filename):\n",
    "    file=open(filename)\n",
    "    linhas=csv.reader(file)\n",
    "    distrib1={}\n",
    "    for i in linhas:\n",
    "        if i[0] in distrib1.keys():\n",
    "            if i[5]==str('1'):\n",
    "                distrib1[i[0]]=distrib1[i[0]]+1\n",
    "        else:\n",
    "            if i[5]==str('1'):\n",
    "                distrib1[i[0]]=1\n",
    "        valores = list(distrib1.items())\n",
    "        valores.sort(key = ordenaValores)\n",
    "    f1='[30,34]',sum(x[1] for x in valores [:4])\n",
    "    f2='[35-39]',sum(x[1] for x in valores[4:9])\n",
    "    f3='[40-44]',sum(x[1] for x in valores[9:14])\n",
    "    f4='[45-49]',sum(x[1] for x in valores[14:19])\n",
    "    f5='[50-54]',sum(x[1] for x in valores[19:24])\n",
    "    f6='[55-59]',sum(x[1] for x in valores[24:29])\n",
    "    f7='[60-64]',sum(x[1] for x in valores[29:34])\n",
    "    f8='[65-69]',sum(x[1] for x in valores[34:39])\n",
    "    f9='[70-74]',sum(x[1] for x in valores[39:44])\n",
    "    f10='[75-79]',sum(x[1] for x in valores[44:])\n",
    "    distribfaixas=dict([f1,f2,f3,f4,f5,f6,f7,f8,f9,f10])\n",
    "    file.close()\n",
    "    return distribfaixas\n",
    "print(distI('myheart.csv'))"
   ]
  },
  {
   "cell_type": "code",
   "execution_count": 5,
   "id": "24bb1969",
   "metadata": {},
   "outputs": [
    {
     "name": "stdout",
     "output_type": "stream",
     "text": [
      "{'0': 152, '100': 1, '110': 1, '113': 1, '117': 1, '123': 1, '126': 1, '139': 1, '142': 1, '149': 1, '152': 1, '153': 1, '156': 1, '160': 2, '164': 1, '166': 2, '167': 1, '170': 2, '171': 1, '172': 2, '173': 1, '174': 1, '175': 1, '177': 2, '180': 1, '182': 1, '184': 1, '186': 4, '188': 1, '190': 1, '192': 1, '193': 3, '195': 1, '196': 1, '197': 1, '198': 3, '200': 2, '201': 1, '202': 2, '203': 4, '204': 2, '205': 1, '206': 2, '207': 2, '208': 3, '210': 2, '211': 2, '212': 4, '213': 2, '214': 3, '216': 6, '217': 3, '218': 4, '219': 3, '220': 2, '221': 2, '222': 3, '223': 5, '224': 2, '225': 3, '226': 2, '228': 3, '229': 2, '230': 5, '231': 4, '232': 1, '233': 3, '234': 3, '235': 1, '236': 2, '237': 4, '239': 2, '241': 1, '242': 1, '243': 3, '244': 2, '245': 1, '246': 5, '247': 1, '248': 4, '249': 3, '252': 1, '254': 6, '255': 1, '256': 3, '257': 1, '258': 5, '259': 1, '260': 4, '261': 2, '263': 3, '264': 3, '265': 2, '266': 2, '267': 4, '268': 2, '269': 2, '270': 4, '272': 1, '273': 2, '274': 3, '275': 3, '276': 2, '277': 2, '279': 1, '280': 1, '281': 2, '282': 6, '283': 2, '284': 1, '285': 2, '286': 1, '287': 1, '288': 5, '289': 5, '290': 1, '291': 2, '292': 2, '293': 1, '294': 2, '295': 1, '297': 1, '298': 2, '299': 2, '300': 2, '303': 1, '304': 1, '305': 3, '306': 2, '308': 1, '309': 2, '310': 2, '311': 2, '312': 1, '315': 1, '316': 1, '319': 1, '322': 1, '326': 1, '327': 1, '329': 1, '330': 2, '331': 1, '333': 1, '336': 1, '337': 1, '338': 1, '339': 1, '341': 2, '342': 2, '349': 1, '355': 1, '369': 1, '384': 1, '388': 1, '392': 1, '393': 1, '404': 1, '407': 1, '409': 1, '466': 1, '491': 1, '518': 1, '529': 1, '603': 1}\n"
     ]
    }
   ],
   "source": [
    "import csv\n",
    "def ordenaValores(v):\n",
    "    return v[0]\n",
    "def distI(filename):\n",
    "    file=open(filename)\n",
    "    linhas=csv.reader(file)\n",
    "    distrib1={}\n",
    "    for i in linhas:\n",
    "        if i[3] in distrib1.keys():\n",
    "            if i[5]==str('1'):\n",
    "                distrib1[i[3]]=distrib1[i[3]]+1\n",
    "        else:\n",
    "            if i[5]==str('1'):\n",
    "                distrib1[i[3]]=1\n",
    "        valores = list(distrib1.items())\n",
    "        valores.sort(key = ordenaValores)\n",
    "        novaDistrib = dict(valores)\n",
    "    file.close()\n",
    "    return novaDistrib\n",
    "print(distI('myheart.csv'))"
   ]
  },
  {
   "cell_type": "code",
   "execution_count": 1,
   "id": "1ebc1bd4",
   "metadata": {},
   "outputs": [
    {
     "name": "stdout",
     "output_type": "stream",
     "text": [
      "{'31': 1, '32': 2, '33': 1, '34': 2, '35': 4, '36': 2, '37': 1, '38': 11, '39': 1, '40': 6, '41': 6, '42': 3, '43': 8, '44': 4, '45': 2, '46': 13, '47': 11, '48': 14, '49': 11, '50': 14, '51': 15, '52': 17, '53': 15, '54': 22, '55': 22, '56': 25, '57': 21, '58': 25, '59': 21, '60': 20, '61': 24, '62': 22, '63': 21, '64': 14, '65': 14, '66': 7, '67': 10, '68': 4, '69': 10, '70': 6, '71': 2, '72': 3, '73': 1, '74': 5, '75': 2, '76': 1, '77': 2}\n"
     ]
    }
   ],
   "source": [
    "import csv\n",
    "def ordenaValores(v):\n",
    "    return v[0]\n",
    "def distI(filename):\n",
    "    file=open(filename)\n",
    "    linhas=csv.reader(file)\n",
    "    distrib1={}\n",
    "    for i in linhas:\n",
    "        if i[0] in distrib1.keys():\n",
    "            if i[5]==str('1'):\n",
    "                distrib1[i[0]]=distrib1[i[0]]+1\n",
    "        else:\n",
    "            if i[5]==str('1'):\n",
    "                distrib1[i[0]]=1\n",
    "        valores = list(distrib1.items())\n",
    "        valores.sort(key = ordenaValores)\n",
    "        novaDistrib = dict(valores)\n",
    "        novaDistrib.update({})\n",
    "    file.close()\n",
    "    return novaDistrib\n",
    "print(distI('myheart.csv'))"
   ]
  },
  {
   "cell_type": "code",
   "execution_count": 63,
   "id": "c9d8755a",
   "metadata": {},
   "outputs": [
    {
     "name": "stdout",
     "output_type": "stream",
     "text": [
      "O número de pessoas doentes em cada sexo é\n",
      "{'F': 40, 'M': 428}\n"
     ]
    }
   ],
   "source": [
    "import csv\n",
    "def distS(filename):\n",
    "    file=open(filename)\n",
    "    linhas=csv.reader(file)\n",
    "    distrib1={}\n",
    "    for s in linhas:\n",
    "        if s[1] in distrib1.keys():\n",
    "            if s[5]==str('1'):\n",
    "                distrib1[s[1]]=distrib1[s[1]]+1\n",
    "            else:\n",
    "                distrib1[s[1]]=distrib1[s[1]]\n",
    "        else:\n",
    "            if s[5]==str('1'):\n",
    "                distrib1[s[1]]=1\n",
    "    file.close()\n",
    "    return distrib1\n",
    "print('O número de pessoas doentes em cada sexo é')\n",
    "print(distS('myheart.csv'))"
   ]
  },
  {
   "cell_type": "code",
   "execution_count": 53,
   "id": "4d432c72",
   "metadata": {},
   "outputs": [
    {
     "name": "stdout",
     "output_type": "stream",
     "text": [
      "O número de pessoas doentes por sexo é\n",
      "{'sexo': 0, 'M': 428, 'F': 39}\n"
     ]
    }
   ],
   "source": [
    "import csv\n",
    "def distS(filename):\n",
    "    file=open(filename)\n",
    "    linhas=csv.reader(file)\n",
    "    distrib1={}\n",
    "    for s in linhas:\n",
    "        if s[1] in distrib1.keys():\n",
    "            if s[5]==str('1'):\n",
    "                distrib1[s[1]]=distrib1[s[1]]+1\n",
    "            else:\n",
    "                distrib1[s[1]]=distrib1[s[1]]\n",
    "        else:\n",
    "            if s[1]==str('1'):\n",
    "                distrib1[s[1]]=1\n",
    "            else:\n",
    "                distrib1[s[1]]=0\n",
    "    file.close\n",
    "    return distrib1        \n",
    "print('O número de pessoas doentes por sexo é')\n",
    "print(distS('myheart.csv'))\n",
    "\n"
   ]
  },
  {
   "cell_type": "code",
   "execution_count": 12,
   "id": "254b4129",
   "metadata": {},
   "outputs": [
    {
     "name": "stdout",
     "output_type": "stream",
     "text": [
      " Menu de opções:\n",
      "    [1]- Lê a informação do ficheiro que estamos a utilizar\n",
      "    [2]- Distribuição da doença por sexo\n",
      "    [3]- Distribuição da doença por escalões etários\n",
      "    [4]- Distribuição da doença por níveis de colesterol\n",
      "    [5]- Escolhe uma das distribuições\n",
      "    [0]- Sair\n",
      "A sua escolha foi 4\n",
      "O número de pessoas doentes por nível de colesterol é\n",
      "{'[0,99]': 152, '[100-109]': 1, '[110-119]': 3, '[120-129]': 2, '[130-139]': 1, '[140-149]': 2, '[150-159]': 3, '[160-169]': 6, '[170-179]': 10, '[180-189]': 8, '[190-199]': 11, '[200-209]': 19, '[210-219]': 29, '[220-229]': 24, '[230-239]': 25, '[240-249]': 21, '[250-259]': 18, '[260-269]': 24, '[270-279]': 18, '[280-289]': 26, '[290-299]': 14, '[300-309]': 12, '[310-319]': 8, '[320-329]': 4, '[330-339]': 8, '[340-349]': 5, '[350-359]': 1, '[360-369]': 1, '[380-389]': 2, '[390-399]': 2, '[400-409]': 3, '[460-469]': 1, '[490-499]': 1, '[510-519]': 1, '[520-529]': 1, '[600-609]': 1}\n",
      " Menu de opções:\n",
      "    [1]- Lê a informação do ficheiro que estamos a utilizar\n",
      "    [2]- Distribuição da doença por sexo\n",
      "    [3]- Distribuição da doença por escalões etários\n",
      "    [4]- Distribuição da doença por níveis de colesterol\n",
      "    [5]- Escolhe uma das distribuições\n",
      "    [0]- Sair\n",
      "A sua escolha foi 5\n",
      "[1]-Distribuição da doença por sexo\n",
      " [2]-Distribuição da doença por faixas etárias\n",
      " [3]-Distribuição da doença por nével de colesterol\n",
      "\n",
      "A opção escolhida foi 3- Distribuição da doença por nível de colesterol\n",
      "nível de colesterol   |  número de pessoas doentes\n",
      "[0,99]     | 152\n",
      "[100-109]     | 1\n",
      "[110-119]     | 3\n",
      "[120-129]     | 2\n",
      "[130-139]     | 1\n",
      "[140-149]     | 2\n",
      "[150-159]     | 3\n",
      "[160-169]     | 6\n",
      "[170-179]     | 10\n",
      "[180-189]     | 8\n",
      "[190-199]     | 11\n",
      "[200-209]     | 19\n",
      "[210-219]     | 29\n",
      "[220-229]     | 24\n",
      "[230-239]     | 25\n",
      "[240-249]     | 21\n",
      "[250-259]     | 18\n",
      "[260-269]     | 24\n",
      "[270-279]     | 18\n",
      "[280-289]     | 26\n",
      "[290-299]     | 14\n",
      "[300-309]     | 12\n",
      "[310-319]     | 8\n",
      "[320-329]     | 4\n",
      "[330-339]     | 7\n",
      "[340-349]     | 5\n",
      "[350-359]     | 1\n",
      "[360-369]     | 1\n",
      "[380-389]     | 2\n",
      "[390-399]     | 2\n",
      "[400-409]     | 3\n",
      "[460-469]     | 1\n",
      "[490-499]     | 1\n",
      "[510-519]     | 1\n",
      "[520-529]     | 1\n",
      "[600-609]     | 1\n",
      "A opção primeiramente escolhida fechou\n",
      "None\n",
      " Menu de opções:\n",
      "    [1]- Lê a informação do ficheiro que estamos a utilizar\n",
      "    [2]- Distribuição da doença por sexo\n",
      "    [3]- Distribuição da doença por escalões etários\n",
      "    [4]- Distribuição da doença por níveis de colesterol\n",
      "    [5]- Escolhe uma das distribuições\n",
      "    [0]- Sair\n",
      "A sua escolha foi 0\n"
     ]
    }
   ],
   "source": [
    "import csv\n",
    "import tpc5 as t\n",
    "utilizador=6\n",
    "while utilizador!=0:\n",
    "    print(''' Menu de opções:\n",
    "    [1]- Lê a informação do ficheiro que estamos a utilizar\n",
    "    [2]- Distribuição da doença por sexo\n",
    "    [3]- Distribuição da doença por escalões etários\n",
    "    [4]- Distribuição da doença por níveis de colesterol\n",
    "    [5]- Escolhe uma das distribuições\n",
    "    [0]- Sair''')\n",
    "    utilizador=int(input('Qual das opções do menu escolhe?'))\n",
    "    print('A sua escolha foi', utilizador)\n",
    "    if utilizador>5:\n",
    "        print('Essa opção não faz parte do menu, escolha uma nova opção')\n",
    "    elif utilizador==1:\n",
    "        l=int(input('Escolhe uma linha para ler'))\n",
    "        def leInformaçao(filename,l):\n",
    "            res=[]\n",
    "            file=open(filename,'r')\n",
    "            linhas= csv.DictReader(file)\n",
    "            for linha in linhas:\n",
    "                res.append(linha)\n",
    "            file.close()\n",
    "            return res[l]\n",
    "        print(leInformaçao('myheart.csv',l))\n",
    "    elif utilizador==2:\n",
    "        def distS(filename):\n",
    "            file=open(filename)\n",
    "            linhas=csv.reader(file)\n",
    "            distrib1={}\n",
    "            for s in linhas:\n",
    "                if s[1] in distrib1.keys():\n",
    "                    if s[5]==str('1'):\n",
    "                        distrib1[s[1]]=distrib1[s[1]]+1\n",
    "                else:\n",
    "                    distrib1[s[1]]=distrib1[s[1]]\n",
    "            else:   \n",
    "                if s[5]==str('1'):\n",
    "                    distrib1[s[1]]=1\n",
    "            file.close()\n",
    "            return distrib1\n",
    "        print('O número de pessoas doentes em cada sexo é')\n",
    "        print(distS('myheart.csv')) \n",
    "    elif utilizador==3:\n",
    "        def ordenaValores(v):\n",
    "            return v[0]\n",
    "        def distI(filename):\n",
    "            file=open(filename)\n",
    "            linhas=csv.reader(file)\n",
    "            distrib1={}\n",
    "            for i in linhas:\n",
    "                if i[0] in distrib1.keys():\n",
    "                    if i[5]==str('1'):\n",
    "                        distrib1[i[0]]=distrib1[i[0]]+1\n",
    "                else:\n",
    "                    if i[5]==str('1'):\n",
    "                        distrib1[i[0]]=1\n",
    "                valores = list(distrib1.items())\n",
    "                valores.sort(key = ordenaValores)\n",
    "            f1='[30,34]',sum(x[1] for x in valores [:4])\n",
    "            f2='[35-39]',sum(x[1] for x in valores[4:9])\n",
    "            f3='[40-44]',sum(x[1] for x in valores[9:14])\n",
    "            f4='[45-49]',sum(x[1] for x in valores[14:19])\n",
    "            f5='[50-54]',sum(x[1] for x in valores[19:24])\n",
    "            f6='[55-59]',sum(x[1] for x in valores[24:29])\n",
    "            f7='[60-64]',sum(x[1] for x in valores[29:34])\n",
    "            f8='[65-69]',sum(x[1] for x in valores[34:39])\n",
    "            f9='[70-74]',sum(x[1] for x in valores[39:44])\n",
    "            f10='[75-79]',sum(x[1] for x in valores[44:])\n",
    "            distribfaixas=dict([f1,f2,f3,f4,f5,f6,f7,f8,f9,f10])\n",
    "            file.close()\n",
    "            return distribfaixas\n",
    "        print('O número de pessoas doentes por faixas etárias é')\n",
    "        print(distI('myheart.csv'))\n",
    "    elif utilizador==4:\n",
    "        def ordenaValores(v):\n",
    "            return v[0]\n",
    "        def distC(filename):\n",
    "            file=open(filename)\n",
    "            linhas=csv.reader(file)\n",
    "            distrib1={}\n",
    "            for i in linhas:\n",
    "                if i[3] in distrib1.keys():\n",
    "                    if i[5]==str('1'):\n",
    "                        distrib1[i[3]]=distrib1[i[3]]+1\n",
    "                else:\n",
    "                    if i[5]==str('1'):\n",
    "                        distrib1[i[3]]=1\n",
    "                valores = list(distrib1.items())\n",
    "                valores.sort(key = ordenaValores)\n",
    "            c0='[0,99]',sum(x[1] for x in valores[:1])\n",
    "            c1='[100-109]',sum(x[1] for x in valores[1:2])\n",
    "            c2='[110-119]',sum(x[1] for x in valores[2:5])\n",
    "            c3='[120-129]',sum(x[1] for x in valores[5:7])\n",
    "            c4='[130-139]',sum(x[1] for x in valores[7:8])\n",
    "            c5='[140-149]',sum(x[1] for x in valores[8:10])\n",
    "            c6='[150-159]',sum(x[1] for x in valores[10:13])\n",
    "            c7='[160-169]',sum(x[1] for x in valores[13:17])\n",
    "            c8='[170-179]',sum(x[1] for x in valores[17:24])\n",
    "            c9='[180-189]',sum(x[1] for x in valores[24:29])\n",
    "            c10='[190-199]',sum(x[1] for x in valores[29:36])\n",
    "            c11='[200-209]',sum(x[1] for x in valores [36:45])\n",
    "            c12='[210-219]',sum(x[1] for x in valores[45:54])\n",
    "            c13='[220-229]',sum(x[1] for x in valores[54:63])\n",
    "            c14='[230-239]',sum(x[1] for x in valores[63:72])\n",
    "            c15='[240-249]',sum(x[1] for x in valores[72:81])\n",
    "            c16='[250-259]',sum(x[1] for x in valores[81:88])\n",
    "            c17='[260-269]',sum(x[1] for x in valores[88:97])\n",
    "            c18='[270-279]',sum(x[1] for x in valores[97:105])\n",
    "            c19='[280-289]',sum(x[1] for x in valores[105:115])\n",
    "            c20='[290-299]',sum(x[1] for x in valores[115:124])\n",
    "            c21='[300-309]',sum(x[1] for x in valores [124:131])\n",
    "            c22='[310-319]',sum(x[1] for x in valores[131:137])\n",
    "            c23='[320-329]',sum(x[1] for x in valores[137:141])\n",
    "            c24='[330-339]',sum(x[1] for x in valores[141:148])\n",
    "            c25='[340-349]',sum(x[1] for x in valores[148:151])\n",
    "            c26='[350-359]',sum(x[1] for x in valores[151:152])\n",
    "            c27='[360-369]',sum(x[1] for x in valores[152:153])\n",
    "            c28='[380-389]',sum(x[1] for x in valores[153:155])\n",
    "            c29='[390-399]',sum(x[1] for x in valores[155:157])\n",
    "            c30='[400-409]',sum(x[1] for x in valores[157:160])\n",
    "            c31='[460-469]',sum(x[1] for x in valores[160:161])\n",
    "            c32='[490-499]',sum(x[1] for x in valores[161:162])\n",
    "            c33='[510-519]',sum(x[1] for x in valores[162:163])\n",
    "            c34='[520-529]',sum(x[1] for x in valores[163:164])\n",
    "            c35='[600-609]',sum(x[1] for x in valores[164:])\n",
    "            distribcolesterol=dict([c0,c1,c2,c3,c4,c5,c6,c7,c8,c9,c10,c11,c12,c13,c14,c15,c16,c17,c18,c19,c20,c21,c22,c23,c24,c25,c26,c27,c28,c29,c30,c31,c32,c33,c34,c35])\n",
    "            file.close()\n",
    "            return distribcolesterol\n",
    "        print('O número de pessoas doentes por nível de colesterol é')\n",
    "        print(distC('myheart.csv'))\n",
    "    elif utilizador==5:\n",
    "        print('[1]-Distribuição da doença por sexo\\n [2]-Distribuição da doença por faixas etárias\\n [3]-Distribuição da doença por nével de colesterol\\n' )\n",
    "        p=1\n",
    "        def criaTabela(p):\n",
    "            while p!=0:\n",
    "                p=int(input('Qual a distribuição que quer ver tabelada?'))\n",
    "                if p==1:\n",
    "                    print('A opção escolhida foi 1- Distribuição da doença por sexo')\n",
    "                    print('sexo          |   número de pessoas doentes')\n",
    "                    dicio1=list(t.distS('myheart.csv').items())\n",
    "                    for i in dicio1:\n",
    "                        print(i[0],'    | ', i[1])\n",
    "                if p==2:\n",
    "                    print('A opção escolhida foi 2- Distribuição da doença por faixas etárias')\n",
    "                    print('idade    |   número de pessoas doentes')\n",
    "                    dicio2=list(t.distI('myheart.csv').items())\n",
    "                    for i in dicio2:\n",
    "                        print(i[0],  '  | ', i[1])\n",
    "                if p==3:\n",
    "                    print('A opção escolhida foi 3- Distribuição da doença por nível de colesterol')\n",
    "                    print('nível de colesterol   |  número de pessoas doentes')\n",
    "                    dicio3=list(t.distI('myheart.csv').items())\n",
    "                    for i in dicio3:\n",
    "                        print(i[0],'    |', i[1])\n",
    "            if p==0:\n",
    "                print('A opção primeiramente escolhida fechou')\n",
    "        print(criaTabela(p))"
   ]
  },
  {
   "cell_type": "code",
   "execution_count": 16,
   "id": "4cc1f5e5",
   "metadata": {},
   "outputs": [
    {
     "ename": "SyntaxError",
     "evalue": "invalid syntax (2722419276.py, line 33)",
     "output_type": "error",
     "traceback": [
      "\u001b[1;36m  Cell \u001b[1;32mIn [16], line 33\u001b[1;36m\u001b[0m\n\u001b[1;33m    pipreturn lista\u001b[0m\n\u001b[1;37m              ^\u001b[0m\n\u001b[1;31mSyntaxError\u001b[0m\u001b[1;31m:\u001b[0m invalid syntax\n"
     ]
    }
   ],
   "source": [
    "utilizador=5\n",
    "filenome='myheart.csv'\n",
    "while utilizador!=0:\n",
    "    print(''' Menu de opções:\n",
    "    [1]- Lê a informação do ficheiro que estamos a utilizar\n",
    "    [2]- Distribuição da doença por sexo\n",
    "    [3]- Distribuição da doença por escalões etários\n",
    "    [4]- Distribuição da doença por níveis de colesterol\n",
    "    [5]- Escolhe uma das distribuições\n",
    "    [0]- Sair''')\n",
    "    utilizador=int(input('Qual das opções do menu escolhe?'))\n",
    "    print('A sua escolha foi', utilizador)\n",
    "    if utilizador>5:\n",
    "        print('Essa opção não faz parte do menu, escolha uma nova opção')\n",
    "    elif utilizador==1:\n",
    "        l=int(input('Escolha a linha que quer ler'))\n",
    "        def leInformaçao(filenome,l):\n",
    "            file=open(filenome,'r')\n",
    "            lista=[]\n",
    "            for line in file:\n",
    "                termos=line.split('\\n')\n",
    "                for t in termos:\n",
    "                    elems=t.split(',')\n",
    "                    if len(elems)==6:\n",
    "                        idade=elems[0]\n",
    "                        sexo=elems[1]\n",
    "                        tensão=elems[2]\n",
    "                        colesterol=elems[3]\n",
    "                        batimento=elems[4]\n",
    "                        temDoença=elems[5]\n",
    "            termo=(idade,sexo,tensão,colesterol,batimento,temDoença)\n",
    "            lista.append(termo)\n",
    "            pipreturn lista\n",
    "        lista1=(leInformaçao('myheart.csv',l))\n",
    "        print(lista1)\n",
    "    elif utilizador==2:\n",
    "        def distsexo(filenome):\n",
    "            for line in file:\n",
    "                contador=0\n",
    "            \n",
    "\n",
    "\n",
    "            \n",
    "            \n",
    "        \n",
    "    "
   ]
  },
  {
   "cell_type": "code",
   "execution_count": 47,
   "id": "6ec357e9",
   "metadata": {},
   "outputs": [
    {
     "name": "stdout",
     "output_type": "stream",
     "text": [
      "['40,M,140,289,172,0\\n', '49,F,160,180,156,1\\n', '37,M,130,283,98,0\\n', '48,F,138,214,108,1\\n', '54,M,150,195,122,0\\n', '39,M,120,339,170,0\\n', '45,F,130,237,170,0\\n', '54,M,110,208,142,0\\n']\n",
      "None\n"
     ]
    }
   ],
   "source": [
    "def leInformaçao(filenome):\n",
    "    lista=[]\n",
    "    file=open(filenome,'r')\n",
    "    linha=file.readlines()\n",
    "    print(linha[1:9])\n",
    "    lista2=lista.append(linha)\n",
    "    return lista2\n",
    "lista2=leInformaçao('myheart.csv')\n",
    "print(lista2)"
   ]
  },
  {
   "cell_type": "code",
   "execution_count": null,
   "id": "4e500920",
   "metadata": {},
   "outputs": [],
   "source": []
  }
 ],
 "metadata": {
  "kernelspec": {
   "display_name": "Python 3.10.7 64-bit",
   "language": "python",
   "name": "python3"
  },
  "language_info": {
   "codemirror_mode": {
    "name": "ipython",
    "version": 3
   },
   "file_extension": ".py",
   "mimetype": "text/x-python",
   "name": "python",
   "nbconvert_exporter": "python",
   "pygments_lexer": "ipython3",
   "version": "3.10.7"
  },
  "vscode": {
   "interpreter": {
    "hash": "e16a3939e05d4836943be007319e38157f5bd6a615361bcba070558623fbf3cc"
   }
  }
 },
 "nbformat": 4,
 "nbformat_minor": 5
}
