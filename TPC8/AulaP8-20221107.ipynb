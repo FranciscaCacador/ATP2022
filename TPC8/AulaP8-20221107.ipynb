{
 "cells": [
  {
   "cell_type": "markdown",
   "id": "1e545158",
   "metadata": {},
   "source": [
    "# Aula Prática 8 (guião)\n",
    "### Semana de 7 de Novembro a 11 de Novembro de 2022\n",
    "### José Carlos Ramalho e Luís Cunha\n",
    "### Sinopsis:\n",
    "Consolidação e aferição de tudo o que foi feito até ao momento. "
   ]
  },
  {
   "cell_type": "markdown",
   "id": "9b9b5140-2b81-435e-9fc0-324437a7b453",
   "metadata": {},
   "source": [
    "### Assunto: Frações\n",
    "Vamos pensar num modelo: o que é uma fração estruturalmente?"
   ]
  },
  {
   "cell_type": "code",
   "execution_count": 2,
   "id": "5a6da5eb",
   "metadata": {},
   "outputs": [],
   "source": [
    "# Modelo duma fração\n",
    "fracao1=(1,2)\n",
    "\n",
    "# Modelo duma lista de frações\n",
    "listafracao=[(1,2),(3,2),(1,3)]"
   ]
  },
  {
   "cell_type": "markdown",
   "id": "d477052b-e074-4a5d-ac12-85c2286a1e5f",
   "metadata": {},
   "source": [
    "### Construtor"
   ]
  },
  {
   "cell_type": "code",
   "execution_count": 3,
   "id": "46fd4a02",
   "metadata": {},
   "outputs": [
    {
     "name": "stdout",
     "output_type": "stream",
     "text": [
      "(1, 2)\n",
      "1/2  "
     ]
    }
   ],
   "source": [
    "def criarFracao(numerador, denominador):\n",
    "    return (numerador, denominador)\n",
    "f2=criarFracao(1,2)\n",
    "print(f2)\n",
    "\n",
    "def verFracao(f):\n",
    "    print(f[0],'/', f[1], end='  ', sep='')\n",
    "verFracao(f2)"
   ]
  },
  {
   "cell_type": "code",
   "execution_count": 4,
   "id": "33d1c7e9-22af-4473-9b21-3e7ce0fcf571",
   "metadata": {},
   "outputs": [
    {
     "name": "stdout",
     "output_type": "stream",
     "text": [
      "1/2  3/2  1/3  "
     ]
    }
   ],
   "source": [
    "def verListaFracao(f):\n",
    "    for i in f:\n",
    "        verFracao(i)\n",
    "verListaFracao(listafracao)"
   ]
  },
  {
   "cell_type": "code",
   "execution_count": 5,
   "id": "d46df3ff",
   "metadata": {},
   "outputs": [
    {
     "name": "stdout",
     "output_type": "stream",
     "text": [
      "2/3  "
     ]
    }
   ],
   "source": [
    "f1 = criarFracao(2,3)\n",
    "verFracao(f1)"
   ]
  },
  {
   "cell_type": "markdown",
   "id": "f7cd0ff1",
   "metadata": {},
   "source": [
    "### Simplificação de frações"
   ]
  },
  {
   "cell_type": "code",
   "execution_count": 6,
   "id": "fa8b42e7",
   "metadata": {},
   "outputs": [
    {
     "data": {
      "text/plain": [
       "5"
      ]
     },
     "execution_count": 6,
     "metadata": {},
     "output_type": "execute_result"
    }
   ],
   "source": [
    "def mdc(a,b):\n",
    "    if a>b:\n",
    "        menor=b\n",
    "    else:\n",
    "        menor=a\n",
    "    for n in range(1,menor+1):\n",
    "        if a % n==0 and b % n==0:\n",
    "            mdc=n \n",
    "    return mdc\n",
    "mdc(10,15)\n"
   ]
  },
  {
   "cell_type": "code",
   "execution_count": 7,
   "id": "cba38d22",
   "metadata": {},
   "outputs": [
    {
     "name": "stdout",
     "output_type": "stream",
     "text": [
      "5\n"
     ]
    }
   ],
   "source": [
    "def mdcsub(a,b):\n",
    "    if a==b:\n",
    "        return a\n",
    "    if a>b:\n",
    "        return mdcsub(b, a-b)\n",
    "    else:\n",
    "        return mdcsub(a,b-a)\n",
    "print(mdcsub(10,15))\n"
   ]
  },
  {
   "cell_type": "code",
   "execution_count": 8,
   "id": "96aaf157",
   "metadata": {},
   "outputs": [
    {
     "name": "stdout",
     "output_type": "stream",
     "text": [
      "(1, 6)\n"
     ]
    }
   ],
   "source": [
    "def mdcresto1(a,b, count):\n",
    "    count=count+1\n",
    "    if a % b==0:\n",
    "        return b, count\n",
    "    return mdcresto1(b, a%b, count)\n",
    "\n",
    "print(mdcresto1(10043,404,0))"
   ]
  },
  {
   "cell_type": "code",
   "execution_count": 9,
   "id": "2c1d6406",
   "metadata": {},
   "outputs": [
    {
     "name": "stdout",
     "output_type": "stream",
     "text": [
      "5\n"
     ]
    }
   ],
   "source": [
    "def mdcresto(a,b):\n",
    "    if a % b==0:\n",
    "        return b\n",
    "    return mdcresto(b, a%b)\n",
    "\n",
    "print(mdcresto(25,30))"
   ]
  },
  {
   "cell_type": "code",
   "execution_count": 10,
   "id": "8b0fa08f",
   "metadata": {},
   "outputs": [
    {
     "name": "stdout",
     "output_type": "stream",
     "text": [
      "(5, 1)\n"
     ]
    }
   ],
   "source": [
    "def simplificarFracao(f):\n",
    "    mdc_temp= mdcresto(f[0], f[1])\n",
    "    return criarFracao(int(f[0]/mdc_temp),int(f[1]/mdc_temp))\n",
    "\n",
    "print(simplificarFracao(criarFracao(25,5)))\n"
   ]
  },
  {
   "cell_type": "code",
   "execution_count": 11,
   "id": "8821d031",
   "metadata": {},
   "outputs": [
    {
     "name": "stdout",
     "output_type": "stream",
     "text": [
      "58\n",
      "3/20  "
     ]
    }
   ],
   "source": [
    "print(mdcresto(4234,232))\n",
    "verFracao(simplificarFracao(criarFracao(21, 140)))"
   ]
  },
  {
   "cell_type": "markdown",
   "id": "d52f012f",
   "metadata": {},
   "source": [
    "## Operações sobre frações"
   ]
  },
  {
   "cell_type": "code",
   "execution_count": 12,
   "id": "96ba280b",
   "metadata": {},
   "outputs": [
    {
     "name": "stdout",
     "output_type": "stream",
     "text": [
      "29/21  "
     ]
    }
   ],
   "source": [
    "def somarFrac(f1, f2):\n",
    "    \n",
    "    return (f1[0]* f2[1] + f2[0]*f1[1], f2[1]*f1[1]) \n",
    "\n",
    "f1= criarFracao(2,3)\n",
    "f2 = criarFracao(5,7)\n",
    "verFracao(somarFrac(f1,f2))"
   ]
  },
  {
   "cell_type": "code",
   "execution_count": 13,
   "id": "a0198bce",
   "metadata": {},
   "outputs": [
    {
     "name": "stdout",
     "output_type": "stream",
     "text": [
      "[(9, 15), (7, 13), (3, 16), (1, 9), (6, 17), (5, 3), (4, 2), (5, 12), (6, 4), (4, 9), (9, 16), (5, 7), (1, 5), (2, 18), (5, 4), (4, 5), (5, 15), (4, 3), (7, 6)]\n"
     ]
    }
   ],
   "source": [
    "listaFrac = [f1, f2, criarFracao(125,1000), (8,12)]\n",
    "listaFrac2 = []\n",
    "import random\n",
    "for i in range(1,20):\n",
    "    n = random.randrange(1, 10)\n",
    "    d = random.randrange(2, 20)\n",
    "    listaFrac2.append(criarFracao(n,d))\n",
    "print(listaFrac2)"
   ]
  },
  {
   "cell_type": "markdown",
   "id": "e83e4eae",
   "metadata": {},
   "source": [
    "### Soma uma lista de frações"
   ]
  },
  {
   "cell_type": "code",
   "execution_count": 14,
   "id": "402d83f0",
   "metadata": {},
   "outputs": [
    {
     "name": "stdout",
     "output_type": "stream",
     "text": [
      "(365, 168)\n",
      "(1326307, 92820)\n"
     ]
    }
   ],
   "source": [
    "def somarListaFrac(lista):\n",
    "    res=lista[0]\n",
    "    for f in lista[1:]:\n",
    "        res=simplificarFracao(somarFrac(res, f))\n",
    "    return res\n",
    "print(simplificarFracao(somarListaFrac(listaFrac)))\n",
    "print((somarListaFrac(listaFrac2)))"
   ]
  },
  {
   "cell_type": "markdown",
   "id": "a88929cc",
   "metadata": {},
   "source": [
    "### Multiplica 2 frações"
   ]
  },
  {
   "cell_type": "code",
   "execution_count": 15,
   "id": "519c5358",
   "metadata": {},
   "outputs": [
    {
     "data": {
      "text/plain": [
       "(15, 14)"
      ]
     },
     "execution_count": 15,
     "metadata": {},
     "output_type": "execute_result"
    }
   ],
   "source": [
    "def multFrac(f1, f2):\n",
    "    return simplificarFracao((f1[0]*f2[0], f1[1]*f2[1]))\n",
    "multFrac((3,2),(5,7))"
   ]
  },
  {
   "cell_type": "markdown",
   "id": "fcd5b5d6",
   "metadata": {},
   "source": [
    "### Guardar uma lista de frações num ficheiro"
   ]
  },
  {
   "cell_type": "code",
   "execution_count": 16,
   "id": "2840f9b2",
   "metadata": {},
   "outputs": [],
   "source": [
    "def gravaListaFrac(fnome,lista):\n",
    "    file=open(fnome, 'w')\n",
    "    for f in lista:\n",
    "        file.write(str(f[0])+ '/'+ str(f[1])+'\\n')\n",
    "    file.close()\n",
    "    return \n",
    "gravaListaFrac(\"fracoes.txt\",listaFrac2)"
   ]
  },
  {
   "cell_type": "markdown",
   "id": "0664fcdc",
   "metadata": {},
   "source": [
    "### Recuperar uma lista de frações dum ficheiro"
   ]
  },
  {
   "cell_type": "code",
   "execution_count": 17,
   "id": "82aece6e",
   "metadata": {},
   "outputs": [
    {
     "name": "stdout",
     "output_type": "stream",
     "text": [
      "9/15\n",
      "\n",
      "['9', '15\\n']\n",
      "7/13\n",
      "\n",
      "['7', '13\\n']\n",
      "3/16\n",
      "\n",
      "['3', '16\\n']\n",
      "1/9\n",
      "\n",
      "['1', '9\\n']\n",
      "6/17\n",
      "\n",
      "['6', '17\\n']\n",
      "5/3\n",
      "\n",
      "['5', '3\\n']\n",
      "4/2\n",
      "\n",
      "['4', '2\\n']\n",
      "5/12\n",
      "\n",
      "['5', '12\\n']\n",
      "6/4\n",
      "\n",
      "['6', '4\\n']\n",
      "4/9\n",
      "\n",
      "['4', '9\\n']\n",
      "9/16\n",
      "\n",
      "['9', '16\\n']\n",
      "5/7\n",
      "\n",
      "['5', '7\\n']\n",
      "1/5\n",
      "\n",
      "['1', '5\\n']\n",
      "2/18\n",
      "\n",
      "['2', '18\\n']\n",
      "5/4\n",
      "\n",
      "['5', '4\\n']\n",
      "4/5\n",
      "\n",
      "['4', '5\\n']\n",
      "5/15\n",
      "\n",
      "['5', '15\\n']\n",
      "4/3\n",
      "\n",
      "['4', '3\\n']\n",
      "7/6\n",
      "\n",
      "['7', '6\\n']\n"
     ]
    },
    {
     "data": {
      "text/plain": [
       "[]"
      ]
     },
     "execution_count": 17,
     "metadata": {},
     "output_type": "execute_result"
    }
   ],
   "source": [
    "def carregaListaFrac(fnome):\n",
    "    file=open(fnome, 'r')\n",
    "    lista=[]\n",
    "    for line in file:\n",
    "        print(line)\n",
    "        print(line.split('/'))\n",
    "    file.close()\n",
    "    return lista\n",
    "carregaListaFrac('fracoes.txt')"
   ]
  },
  {
   "cell_type": "code",
   "execution_count": 18,
   "id": "070a7423",
   "metadata": {},
   "outputs": [
    {
     "name": "stdout",
     "output_type": "stream",
     "text": [
      "[(9, 15), (7, 13), (3, 16), (1, 9), (6, 17), (5, 3), (4, 2), (5, 12), (6, 4), (4, 9), (9, 16), (5, 7), (1, 5), (2, 18), (5, 4), (4, 5), (5, 15), (4, 3), (7, 6)]\n"
     ]
    }
   ],
   "source": [
    "def carregaListaFrac1(fnome):\n",
    "    file=open(fnome, 'r')\n",
    "    lista=[]\n",
    "    for line in file:\n",
    "        fracao = line.split('/')\n",
    "        #fracao[1] = fracao[1].replace(\"\\n\", \"\")\n",
    "        #fracao[1]=fracao[1][:-1]\n",
    "        lista.append((int(fracao[0]), int(fracao[1])))\n",
    "        fracao[1]=fracao[1].rstrip(\"\\n\")\n",
    "    file.close()\n",
    "    return lista\n",
    "print(carregaListaFrac1(\"fracoes.txt\"))"
   ]
  },
  {
   "cell_type": "markdown",
   "id": "4193a91b",
   "metadata": {},
   "source": [
    "### TPC8: Teste de aferição\n",
    "\n",
    "Resolva os problemas apresentados a seguir."
   ]
  },
  {
   "cell_type": "markdown",
   "id": "4e758271",
   "metadata": {},
   "source": [
    "### tpc1.a) Recebe duas strings, _s1_ e _s2_, e retorna o comprimento da substring inicial de _s1_ que não contem nenhum caráter de _s2_:"
   ]
  },
  {
   "cell_type": "code",
   "execution_count": 19,
   "id": "4ae7f5d0",
   "metadata": {},
   "outputs": [
    {
     "data": {
      "text/plain": [
       "4"
      ]
     },
     "execution_count": 19,
     "metadata": {},
     "output_type": "execute_result"
    }
   ],
   "source": [
    "def inicDiferente(s1, s2):\n",
    "    res = 0\n",
    "    for i in s1[0:4]:\n",
    "        if i not in s2:\n",
    "            res=res+1\n",
    "    return res\n",
    "inicDiferente(\"Está um bom dia...\", \"Hoje é um dia alegre.\")\n",
    "# resultado esperado: 4"
   ]
  },
  {
   "cell_type": "markdown",
   "id": "28cb3dc4",
   "metadata": {},
   "source": [
    "### tpc1.b) Recebe um parâmetro _n_ e lê _n_ números inteiros; no fim retorna quantos dos números lidos são superiores à média dos números lidos:"
   ]
  },
  {
   "cell_type": "code",
   "execution_count": 41,
   "id": "594254e4",
   "metadata": {},
   "outputs": [
    {
     "name": "stdout",
     "output_type": "stream",
     "text": [
      "números:[3, 374, 392, 367, 180] \n",
      " soma:1316 \n",
      " média:263.2 \n",
      " acima da média:3\n"
     ]
    }
   ],
   "source": [
    "import random\n",
    "def acimaMedia(n):\n",
    "    res = 0\n",
    "    soma = 0\n",
    "    listan = []\n",
    "    i = 0\n",
    "    while i < n:\n",
    "        listan.append(random.randint(1,500))\n",
    "        i += 1\n",
    "    for a in listan:\n",
    "        soma += a\n",
    "    media = soma/n\n",
    "    for a in listan:\n",
    "        if a>media:\n",
    "            res += 1\n",
    "    listanumeros = \"números:\" + str(listan)\n",
    "    soma = \"soma:\" + str(soma)\n",
    "    media = \"média:\" + str(media)\n",
    "    acimam = \"acima da média:\" + str(res)\n",
    "    print(\n",
    "        listanumeros, \"\\n\", \n",
    "        soma, \"\\n\", \n",
    "        media, \"\\n\", \n",
    "        acimam)\n",
    "acimaMedia(5)"
   ]
  },
  {
   "cell_type": "markdown",
   "id": "e6db31d7",
   "metadata": {},
   "source": [
    "### tpc1.c) Faz o merge de duas listas ordenadas, retornando uma lista ordenada com os elementos das duas listas (__não podes usar nenhuma função de ordenação do Python__):"
   ]
  },
  {
   "cell_type": "code",
   "execution_count": 36,
   "id": "2b5ad344",
   "metadata": {},
   "outputs": [
    {
     "data": {
      "text/plain": [
       "[1, 2, 3, 4, 6, 7, 9, 12]"
      ]
     },
     "execution_count": 36,
     "metadata": {},
     "output_type": "execute_result"
    }
   ],
   "source": [
    "def merge(l1, l2):\n",
    "        j=0\n",
    "        lista=[]\n",
    "        for i in l1:\n",
    "                if i not in l2:\n",
    "                        lista.append(i)\n",
    "        for i in l2:\n",
    "                if i not in lista:\n",
    "                        lista.append(i)\n",
    "        while j<len(lista):\n",
    "                i=1\n",
    "                while i<len(lista):\n",
    "                        if lista[i-1]>lista[i]:\n",
    "                                lista[i], lista[i-1]= lista[i-1],lista[i]\n",
    "                        i=i+1\n",
    "                j=j+1\n",
    "        return lista\n",
    "    \n",
    "merge([1,2,6,9], [3,4,7,12])\n",
    "# Resultado esperado: [1,2,3,4,6,7,9,12]"
   ]
  },
  {
   "cell_type": "markdown",
   "id": "6698b337",
   "metadata": {},
   "source": [
    "### tpc1.d) Recebe o nome de dois ficheiros de texto, _f1_ e _f2_, e indica se são iguais (__True__) no seu conteúdo ou se são diferentes (__False__):"
   ]
  },
  {
   "cell_type": "code",
   "execution_count": null,
   "id": "54cef309",
   "metadata": {},
   "outputs": [
    {
     "name": "stdout",
     "output_type": "stream",
     "text": [
      "True\n",
      "False\n"
     ]
    }
   ],
   "source": [
    "file1=open('texto1.txt')\n",
    "\n",
    "def figuais(f1, f2):\n",
    "    file1=open(f1, 'r')\n",
    "    file2=open(f2, 'r')\n",
    "    for linha in file1:\n",
    "        valor=False\n",
    "        if linha in file2:\n",
    "            valor=True\n",
    "        else:\n",
    "            valor=False\n",
    "    return valor\n",
    "\n",
    "print(figuais(\"texto1.txt\", \"texto1.txt\"))\n",
    "print(figuais(\"texto1.txt\", \"texto2.txt\"))"
   ]
  },
  {
   "cell_type": "markdown",
   "id": "7cd572fc",
   "metadata": {},
   "source": [
    "## Questão 2: Gestão de uma Cinemateca\n",
    "\n",
    "Analise as seguintes estruturas de dados que materializam o modelo de uma cinemateca:"
   ]
  },
  {
   "cell_type": "code",
   "execution_count": 23,
   "id": "76e9e621",
   "metadata": {},
   "outputs": [],
   "source": [
    "# Cinemateca = [Filme]\n",
    "# Pub = (Título, Ano, Elenco, Géneros)\n",
    "# Título = String\n",
    "# Ano = Int\n",
    "# Elenco = [Ator]\n",
    "# Ator = String\n",
    "# Géneros = [Género]\n",
    "# Género = String\n",
    "Filme1 = (\"Meet the Parents\", 2000, [\"Ben Stiller\",\"Robert De Niro\",\n",
    "      \"Blythe Danner\",\"Teri Polo\",\"Owen Wilson\"], [\"Comedy\", \"Drama\"])\n",
    "Filme2 = (\"Men of Honor\", 2000, [\"Robert De Niro\",\"Cuba Gooding, Jr.\",\n",
    "      \"Charlize Theron\"], [\"Biography\", \"Drama\", \"Thriller\"])\n",
    "Filme3 = (\"Analyze That\", 2002, [\"Robert De Niro\",\"Billy Crystal\",\n",
    "      \"Lisa Kudrow\"], [\"Comedy\"])\n",
    "CineUM = [Filme1, Filme2, Filme3]"
   ]
  },
  {
   "cell_type": "markdown",
   "id": "89afc758",
   "metadata": {},
   "source": [
    " e especifique funções que calculem o que se descreve a seguir:"
   ]
  },
  {
   "cell_type": "markdown",
   "id": "2156a0c8",
   "metadata": {},
   "source": [
    "### tpc2.a)  Devolve uma lista dos atores participantes nos filmes armazenados, ordenada alfabeticamente e sem repetições:"
   ]
  },
  {
   "cell_type": "code",
   "execution_count": 24,
   "id": "8a5a2a41",
   "metadata": {},
   "outputs": [
    {
     "name": "stdout",
     "output_type": "stream",
     "text": [
      "['Ben Stiller', 'Billy Crystal', 'Blythe Danner', 'Charlize Theron', 'Cuba Gooding, Jr.', 'Lisa Kudrow', 'Owen Wilson', 'Robert De Niro', 'Teri Polo']\n"
     ]
    }
   ],
   "source": [
    "def atores(cinemateca):\n",
    "    listaatores=[]\n",
    "    for atores in Filme1[2]:\n",
    "        listaatores.append(atores)\n",
    "    for atores in Filme2[2]:\n",
    "        if atores not in listaatores:\n",
    "            listaatores.append(atores)\n",
    "    for atores in Filme3[2]:\n",
    "        if atores not in listaatores:\n",
    "            listaatores.append(atores)\n",
    "    listaatores.sort()\n",
    "    return listaatores\n",
    "print(atores(CineUM))\n",
    "# Resultado esperado: ['Ben Stiller', 'Billy Crystal', 'Blythe Danner', 'Charlize Theron', 'Cuba Gooding, Jr.', 'Lisa Kudrow', 'Owen Wilson', 'Robert De Niro', 'Teri Polo']"
   ]
  },
  {
   "cell_type": "markdown",
   "id": "12f9126b",
   "metadata": {},
   "source": [
    "### tpc2.b)  Devolve uma lista de todos os títulos dos filmes, em ordem alfabética, e de um determinado género passado como argumento:"
   ]
  },
  {
   "cell_type": "code",
   "execution_count": 25,
   "id": "d9dfe30a",
   "metadata": {},
   "outputs": [
    {
     "name": "stdout",
     "output_type": "stream",
     "text": [
      "['Analyze That', 'Meet the Parents']\n"
     ]
    }
   ],
   "source": [
    "def listarPorGenero(cinemateca, genero):\n",
    "    pub=Filme1,Filme2, Filme3\n",
    "    listaG=[]\n",
    "    for titulo in pub:\n",
    "        if genero in Filme1[3]:\n",
    "            listaG.append(Filme1[0])\n",
    "        if genero in Filme2[3]:\n",
    "            if titulo not in listaG:\n",
    "                listaG.append(Filme2[0])\n",
    "        if genero in Filme3[3]:\n",
    "            if titulo not in listaG:\n",
    "                listaG.append(Filme3[0])\n",
    "        listaG.sort()\n",
    "        return listaG\n",
    "\n",
    "print(listarPorGenero(CineUM, \"Comedy\"))\n",
    "# Resultado esperado: ['Analyze That', 'Meet the Parents']"
   ]
  },
  {
   "cell_type": "markdown",
   "id": "1a0f760b",
   "metadata": {},
   "source": [
    "### tpc2.c)  Devolve o título do filme com o maior elenco:"
   ]
  },
  {
   "cell_type": "code",
   "execution_count": 26,
   "id": "a00c85e3",
   "metadata": {},
   "outputs": [
    {
     "name": "stdout",
     "output_type": "stream",
     "text": [
      "Meet the Parents\n"
     ]
    }
   ],
   "source": [
    "def maiorElenco( cinemateca ):\n",
    "    res=0\n",
    "    pub=Filme1,Filme2, Filme3\n",
    "    for titulo in pub:\n",
    "        if len(Filme1[2])>len(Filme2[2]):\n",
    "            if len(Filme1[2])>len(Filme3[2]):\n",
    "                res=Filme1[0]\n",
    "        if len(Filme2[2])>len(Filme1[2]):\n",
    "            if len(Filme2[2])>len(Filme3[2]):\n",
    "                res=Filme2[0]\n",
    "        if len(Filme3[2])>len(Filme1[2]):\n",
    "            if len(Filme3[2])>len(Filme2[2]):\n",
    "                res=Filme3[0]\n",
    "        return res \n",
    "\n",
    "print(maiorElenco(CineUM))\n",
    "# Resultado esperado: Meet the Parents"
   ]
  },
  {
   "cell_type": "markdown",
   "id": "65061d0a",
   "metadata": {},
   "source": [
    "### tpc2.d)  Calcula a distribuição de filmes por Género:"
   ]
  },
  {
   "cell_type": "code",
   "execution_count": 28,
   "id": "fc646478",
   "metadata": {},
   "outputs": [
    {
     "data": {
      "text/plain": [
       "{'Comedy': 2, 'Drama': 2, 'Biography': 1, 'Thriller': 1}"
      ]
     },
     "execution_count": 28,
     "metadata": {},
     "output_type": "execute_result"
    }
   ],
   "source": [
    "def filmePorGenero(cinemateca):\n",
    "    dicionarioG = {}\n",
    "    for _, _, _, genero in cinemateca:\n",
    "        for titulo in genero:\n",
    "            if titulo in dicionarioG.keys():\n",
    "                dicionarioG[titulo] += 1\n",
    "            else:\n",
    "                dicionarioG[titulo] = 1\n",
    "    return dicionarioG\n",
    "filmePorGenero(CineUM)"
   ]
  },
  {
   "cell_type": "markdown",
   "id": "de46a635",
   "metadata": {},
   "source": [
    "### tpc2.e)  Represente num gráfico de barras a distribuição calculada na alínea anterior (pode usar o material que entender das aulas):"
   ]
  },
  {
   "cell_type": "code",
   "execution_count": 35,
   "id": "4118730d",
   "metadata": {},
   "outputs": [
    {
     "data": {
      "image/png": "[encoded data removed]",
      "text/plain": [
       "<Figure size 640x480 with 1 Axes>"
      ]
     },
     "metadata": {},
     "output_type": "display_data"
    }
   ],
   "source": [
    "import matplotlib.pyplot as plt\n",
    "def graficodistribG(filmePorGenero):\n",
    "    plt.figure()\n",
    "    plt.bar(filmePorGenero.keys(), filmePorGenero.values(), color=\"pink\")\n",
    "    plt.xticks([x for x in range(0, len(filmePorGenero.keys()))], filmePorGenero.keys())\n",
    "    plt.ylabel('Filmes')\n",
    "    plt.xlabel('Género')\n",
    "    plt.title('Distribuição de Filmes por Género')\n",
    "    plt.show()\n",
    "graficodistribG(filmePorGenero(CineUM))\n"
   ]
  }
 ],
 "metadata": {
  "kernelspec": {
   "display_name": "Python 3.10.7 64-bit",
   "language": "python",
   "name": "python3"
  },
  "language_info": {
   "codemirror_mode": {
    "name": "ipython",
    "version": 3
   },
   "file_extension": ".py",
   "mimetype": "text/x-python",
   "name": "python",
   "nbconvert_exporter": "python",
   "pygments_lexer": "ipython3",
   "version": "3.10.7"
  },
  "vscode": {
   "interpreter": {
    "hash": "e16a3939e05d4836943be007319e38157f5bd6a615361bcba070558623fbf3cc"
   }
  }
 },
 "nbformat": 4,
 "nbformat_minor": 5
}
