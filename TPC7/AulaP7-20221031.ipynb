{
 "cells": [
  {
   "cell_type": "markdown",
   "id": "1e545158",
   "metadata": {},
   "source": [
    "# Aula Prática 7 (guião)\n",
    "### Semana de 31 de Outubro a 4 de Novembro de 2022\n",
    "### José Carlos Ramalho e Luís Cunha\n",
    "### Sinopsis:\n",
    "Algoritmos "
   ]
  },
  {
   "cell_type": "markdown",
   "id": "967431ad",
   "metadata": {},
   "source": [
    "### Exercício 1: Considere os seguintes comentários que definem um modelo para guardar os registos de temperatura e precipitação ao longo de vários dias, materializado na variável tabMeteo1:"
   ]
  },
  {
   "cell_type": "code",
   "execution_count": 1,
   "id": "5eda70eb",
   "metadata": {},
   "outputs": [],
   "source": [
    "# TabMeteo = [(Data,TempMin,TempMax,Precipitacao)]\n",
    "    # Data = (Int,Int,Int)\n",
    "    # TempMin = Float\n",
    "    # TempMax = Float\n",
    "    # Precipitacao = Float\n",
    "\n",
    "tabMeteo1 = [((2022,1,20), 2, 16, 0),((2022,1,21), 1, 13, 0.2)]"
   ]
  },
  {
   "cell_type": "markdown",
   "id": "4927f7a9",
   "metadata": {},
   "source": [
    "### 1.a) Calcula a temperatura média de cada dia, dando como resultado uma lista de pares: [(data, temperaturaMédia)]:\n",
    "\n",
    "``` \n",
    "def medias(tabMeteo):\n",
    "    ... \n",
    "    return ... \n",
    "```"
   ]
  },
  {
   "cell_type": "code",
   "execution_count": 1,
   "id": "ac235e8f",
   "metadata": {},
   "outputs": [
    {
     "ename": "NameError",
     "evalue": "name 'tabMeteo1' is not defined",
     "output_type": "error",
     "traceback": [
      "\u001b[1;31m---------------------------------------------------------------------------\u001b[0m",
      "\u001b[1;31mNameError\u001b[0m                                 Traceback (most recent call last)",
      "Cell \u001b[1;32mIn [1], line 8\u001b[0m\n\u001b[0;32m      5\u001b[0m         res\u001b[39m.\u001b[39mappend((data,tmedia))\n\u001b[0;32m      6\u001b[0m     \u001b[39mreturn\u001b[39;00m res\n\u001b[1;32m----> 8\u001b[0m \u001b[39mprint\u001b[39m(medias(tabMeteo1))\n",
      "\u001b[1;31mNameError\u001b[0m: name 'tabMeteo1' is not defined"
     ]
    }
   ],
   "source": [
    "def medias(tabMeteo):\n",
    "    res = []\n",
    "    for data, tmin, tmax,_ in tabMeteo:\n",
    "        tmedia=(tmin+tmax)/2\n",
    "        res.append((data,tmedia))\n",
    "    return res\n",
    "\n",
    "print(medias(tabMeteo1))"
   ]
  },
  {
   "cell_type": "markdown",
   "id": "4d8154bb",
   "metadata": {},
   "source": [
    "### 1.b) Calcula a temperatura mínima mais baixa registada na tabela, dando como resultado esse valor:\n",
    "\n",
    "``` \n",
    "def minMin(tabMeteo):\n",
    "    ... \n",
    "    return ... \n",
    "```"
   ]
  },
  {
   "cell_type": "code",
   "execution_count": 7,
   "id": "a01aefa9",
   "metadata": {},
   "outputs": [
    {
     "name": "stdout",
     "output_type": "stream",
     "text": [
      "1\n"
     ]
    }
   ],
   "source": [
    "def minMin(tabMeteo):\n",
    "    res=tabMeteo[0][1]\n",
    "    for _, tmin,*_ in tabMeteo:\n",
    "        if tmin<res:\n",
    "            res=tmin\n",
    "    return res\n",
    "\n",
    "print(minMin(tabMeteo1))"
   ]
  },
  {
   "cell_type": "markdown",
   "id": "e055ae1a",
   "metadata": {},
   "source": [
    "### 1.c) Calcula a amplitude térmica (diferença entre a temperatura máxima e a temperatura mínima) de cada dia, dando como resultado uma lista de pares: [(data, amplitude)]\n",
    "\n",
    "``` \n",
    "def amplTerm(tabMeteo):\n",
    "    ... \n",
    "    return ... \n",
    "```"
   ]
  },
  {
   "cell_type": "code",
   "execution_count": 8,
   "id": "4f76a805",
   "metadata": {},
   "outputs": [
    {
     "name": "stdout",
     "output_type": "stream",
     "text": [
      "[((2022, 1, 20), 14), ((2022, 1, 21), 12)]\n"
     ]
    }
   ],
   "source": [
    "def amplTerm(tabMeteo):\n",
    "    res=[(data, tmax-tmin) for data, tmin, tmax, _ in tabMeteo]\n",
    "    return res \n",
    "\n",
    "print(amplTerm(tabMeteo1))"
   ]
  },
  {
   "cell_type": "markdown",
   "id": "5c482db9",
   "metadata": {},
   "source": [
    "### 1.d) Calcula o dia em que a precipitação registada teve o seu valor máximo e indica esse valor, dando como resultado o par (data, valor):\n",
    "\n",
    "```\n",
    "def maxChuva(tabMeteo):\n",
    "    ... \n",
    "    return ... \n",
    "```"
   ]
  },
  {
   "cell_type": "code",
   "execution_count": 9,
   "id": "21a1e1dc",
   "metadata": {},
   "outputs": [
    {
     "name": "stdout",
     "output_type": "stream",
     "text": [
      "((2022, 1, 21), 0.2)\n"
     ]
    }
   ],
   "source": [
    "def maxChuva(tabMeteo):\n",
    "    res= (tabMeteo[0][0], tabMeteo[0][3])\n",
    "    for data, _,_, precip in tabMeteo:\n",
    "        if precip>res[1]:\n",
    "            res= (data, precip)\n",
    "    return res\n",
    "\n",
    "print(maxChuva(tabMeteo1))"
   ]
  },
  {
   "cell_type": "markdown",
   "id": "2f205e2d",
   "metadata": {},
   "source": [
    "### Exercício 2: Voltando a um dos temas abordados nas aulas especifique funções que:\n",
    "\n",
    "### 2.a) Calcula a lista de divisores de um número inteiro (se um número divide o número passado como argumento dando resto zero na divisão inteira, é considerado um divisor desse número):\n",
    "\n",
    "``` \n",
    "def divisores(n):\n",
    "    ... \n",
    "    return ... \n",
    "```"
   ]
  },
  {
   "cell_type": "code",
   "execution_count": 2,
   "id": "d2ea4da9",
   "metadata": {},
   "outputs": [
    {
     "name": "stdout",
     "output_type": "stream",
     "text": [
      "1: [1]\n",
      "48: [1, 2, 3, 4, 6, 8, 12, 16, 24, 48]\n",
      "95: [1, 5, 19, 95]\n",
      "142: [1, 2, 71, 142]\n",
      "189: [1, 3, 7, 9, 21, 27, 63, 189]\n",
      "236: [1, 2, 4, 59, 118, 236]\n",
      "283: [1, 283]\n",
      "330: [1, 2, 3, 5, 6, 10, 11, 15, 22, 30, 33, 55, 66, 110, 165, 330]\n",
      "377: [1, 13, 29, 377]\n",
      "424: [1, 2, 4, 8, 53, 106, 212, 424]\n",
      "471: [1, 3, 157, 471]\n",
      "518: [1, 2, 7, 14, 37, 74, 259, 518]\n",
      "565: [1, 5, 113, 565]\n",
      "612: [1, 2, 3, 4, 6, 9, 12, 17, 18, 34, 36, 51, 68, 102, 153, 204, 306, 612]\n",
      "659: [1, 659]\n"
     ]
    }
   ],
   "source": [
    "def divisores(n):\n",
    "    res = []\n",
    "    for i in range(1, n+1):\n",
    "        if n % i == 0:\n",
    "            res.append(i)\n",
    "    return res\n",
    "\n",
    "for j in range(1, 700, 47):\n",
    "    print(str(j) + \": \" + str(divisores(j)))"
   ]
  },
  {
   "cell_type": "markdown",
   "id": "03887104",
   "metadata": {},
   "source": [
    "### 2.b) Verifica se um número inteiro é primo (tem apenas como divisores a unidade e o próprio número), dando como resultado True ou False:\n",
    "\n",
    "``` \n",
    "def eprimo(n):\n",
    "    ... \n",
    "    return ... \n",
    "```"
   ]
  },
  {
   "cell_type": "code",
   "execution_count": 3,
   "id": "ddee7b3f",
   "metadata": {},
   "outputs": [
    {
     "name": "stdout",
     "output_type": "stream",
     "text": [
      "1: False\n",
      "9: False\n",
      "17: True\n",
      "25: False\n",
      "33: False\n",
      "41: True\n",
      "49: False\n",
      "57: False\n",
      "65: False\n",
      "73: True\n",
      "81: False\n",
      "89: True\n",
      "97: True\n",
      "105: False\n",
      "113: True\n",
      "121: False\n",
      "129: False\n",
      "137: True\n",
      "145: False\n",
      "153: False\n",
      "161: False\n",
      "169: False\n",
      "177: False\n",
      "185: False\n",
      "193: True\n"
     ]
    }
   ],
   "source": [
    "# Reutilizando a função anterior...\n",
    "def eprimo(n):\n",
    "    #return True if divisores(n) == [1,n] else False\n",
    "    return True if len(divisores(n))==2 else False\n",
    "\n",
    "for x in range(1,200,8):\n",
    "    print(str(x) + \": \" + str(eprimo(x)))"
   ]
  },
  {
   "cell_type": "markdown",
   "id": "ed43d3eb",
   "metadata": {},
   "source": [
    "### 2.c) Calcula a lista de números primos até um determinado número dado (inclusive):\n",
    "\n",
    "```\n",
    "def primosN(n):\n",
    "    ... \n",
    "    return ... \n",
    "```"
   ]
  },
  {
   "cell_type": "code",
   "execution_count": 4,
   "id": "f451f1c2",
   "metadata": {},
   "outputs": [
    {
     "name": "stdout",
     "output_type": "stream",
     "text": [
      "[2, 3, 5, 7, 11, 13, 17, 19, 23, 29, 31, 37, 41, 43, 47, 53, 59, 61, 67, 71, 73, 79, 83, 89, 97]\n"
     ]
    }
   ],
   "source": [
    "def primosN(n):\n",
    "    res = []\n",
    "    for i in range(1,n+1):\n",
    "        if eprimo(i):\n",
    "            res.append(i)\n",
    "    return res\n",
    "\n",
    "print(primosN(100))"
   ]
  },
  {
   "cell_type": "markdown",
   "id": "d83d31d0",
   "metadata": {},
   "source": [
    "### 2.d) Calcula quantos números inteiros entre 1 e 10000 são múltiplos de 23 e devolve esse número (um múltiplo de 23 é um número que tem 23 como divisor):\n",
    "\n",
    "```\n",
    "def multiplos23():\n",
    "    ... \n",
    "    return ... \n",
    "```"
   ]
  },
  {
   "cell_type": "code",
   "execution_count": 10,
   "id": "8931b1ca",
   "metadata": {},
   "outputs": [
    {
     "name": "stdout",
     "output_type": "stream",
     "text": [
      "434\n"
     ]
    }
   ],
   "source": [
    "def multiplos23(n):\n",
    "    res =[i for i in range (1,n+1) if i%23==0]\n",
    "    return len(res)\n",
    "print(multiplos23(10000))"
   ]
  },
  {
   "cell_type": "markdown",
   "id": "ae949737",
   "metadata": {},
   "source": [
    "### Exercício 3: Espeficique uma função que recebe um número romano e devolve o correspondente número decimal"
   ]
  },
  {
   "cell_type": "code",
   "execution_count": 12,
   "id": "54b85eb0",
   "metadata": {},
   "outputs": [
    {
     "name": "stdout",
     "output_type": "stream",
     "text": [
      "8\n"
     ]
    }
   ],
   "source": [
    "# Solução do exercício 3\n",
    "def Roman2Dec(r):\n",
    "    romanos = {\n",
    "        'I': (1, 'unidades'),\n",
    "        'V': (5, 'unidades'),\n",
    "        'X': (10, 'dezenas'),\n",
    "        'L': (50, 'dezenas'),\n",
    "        'C': (100, 'centenas'),\n",
    "        'D': (500, 'centenas'),\n",
    "        'M': (1000, 'milhares')\n",
    "    }\n",
    "    res = romanos[r[0]][0]\n",
    "    ant = romanos[r[0]][0]\n",
    "    categ = romanos[r[0]][1]\n",
    "    for letra in r[1:]:\n",
    "        if romanos[letra][1] == categ:\n",
    "            if romanos[letra][0] > ant:\n",
    "                res = res - ant + romanos[letra][0] - ant \n",
    "                ant = romanos[letra][0]\n",
    "            else:\n",
    "                res = res + romanos[letra][0]\n",
    "                ant = romanos[letra][0]\n",
    "                categ = romanos[letra][1]\n",
    "        else:\n",
    "            res = res + romanos[letra][0]\n",
    "            ant = romanos[letra][0]\n",
    "            categ = romanos[letra][1]\n",
    "    return res\n",
    "print(Roman2Dec('VIII'))"
   ]
  },
  {
   "cell_type": "markdown",
   "id": "9761d73f",
   "metadata": {},
   "source": [
    "### Metodologia\n",
    "\n",
    "Ao longo dos próximos exercícios irás construir um módulo Python para desenho usando a biblioteca `matplotlib`.\n",
    "Nesse sentido, coloca todas as funções que desenvolveres num módulo chamado `myDrawingFunctions.py` que deverás importar nos programas que irás desenvolver neste guião."
   ]
  },
  {
   "cell_type": "markdown",
   "id": "1d9c2fbc",
   "metadata": {},
   "source": [
    "### Exercício 4: O quadrado \n",
    "\n",
    "Especifica, no teu módulo, uma função para desenhar um quadrado. Além do lado, pensa em parâmetros que te permitam posicionar o quadrado no plano xy.\n",
    "\n",
    "Importa o módulo num programa que irá desenhar os seguintes quadrados:\n",
    "* 1 quadrado de 100 unidades de lado, centrado na origem;\n",
    "* 99 quadrados, dentro do quadrado inicial, em que as coordenadas do canto inferior esquerdo vão sendo incrementadas de 1, ou o lado decrementado de 1."
   ]
  },
  {
   "cell_type": "code",
   "execution_count": null,
   "id": "fde54325",
   "metadata": {},
   "outputs": [],
   "source": [
    "# Solução do exercício 4\n",
    "import myDrawingFunctions as draw\n",
    "\n",
    "draw.quad(0, 0, 100)\n",
    "draw.nquad(0, 0, [x for x in range(1, 101, 5)])"
   ]
  },
  {
   "cell_type": "markdown",
   "id": "57f1522d",
   "metadata": {},
   "source": [
    "### Exercício 5: O retângulo\n",
    "\n",
    "Acrescenta ao teu módulo uma função para desenhar um retângulo devidamente posicionado. Acrescenta um parâmetro cor.\n",
    "\n",
    "Usa agora as funcionalidades do teu módulo para desenhar os seguintes retângulos:\n",
    "* 1 retângulo com o canto inferior esquerdo em (0,0) e o canto superior direito em (5,10);\n",
    "* 10 retângulos, lado a lado, em que os ímpares têm altura 100 e largura 20 e os pares altura 70 e largura 10;\n",
    "* Faz variar a cor entre os retângulos. "
   ]
  },
  {
   "cell_type": "code",
   "execution_count": null,
   "id": "199c3004",
   "metadata": {},
   "outputs": [],
   "source": [
    "# Solução do exercício 5\n",
    "import myDrawingFunctions as draw\n",
    "\n",
    "draw.rect(0, 0, 5, 100)\n"
   ]
  },
  {
   "cell_type": "markdown",
   "id": "08100b64",
   "metadata": {},
   "source": [
    "### Exercício 6: O círculo\n",
    "\n",
    "Acrescenta ao teu módulo uma função para desenhar um círculo devidamente posicionado. Acrescenta um parâmetro cor.\n",
    "\n",
    "Usa agora as funcionalidades do teu módulo para desenhar os seguintes círculos:\n",
    "* 1 círculo de raio 10, centrado na origem;\n",
    "* 10 círculos, concêntricos, centrados na origem, com lados `[10,20,30,40,50,60,70,80,90,100]`;\n",
    "* Faz variar a cor entre os círculos. "
   ]
  },
  {
   "cell_type": "code",
   "execution_count": null,
   "id": "d08949e6",
   "metadata": {},
   "outputs": [],
   "source": [
    "# Solução do exercício 6\n",
    "import myDrawingFunctions as draw\n",
    "\n",
    "draw.circ(0, 0, 10)\n",
    "# ..."
   ]
  },
  {
   "cell_type": "markdown",
   "id": "4193a91b",
   "metadata": {},
   "source": [
    "### TPC7: Análise de dados: Alunos\n",
    "\n",
    "Descarregue o ficheiro de dados: `alunos.csv`\n",
    "Crie um programa em Python, conjunto de funções, que responda às seguintes questões:\n",
    "* Crie uma função que lê a informação do ficheiro para um modelo, previamente pensado em memória;\n",
    "* Crie uma função que calcula a distribuição dos alunos por curso;\n",
    "* Crie uma função que calcula a média das notas de cada aluno e acrescenta essa nova coluna no dataset em memória;\n",
    "* Considere os seguintes escalões de notas: E [1-4], D [5-8], C [9-12], B [13-16], A [17-20], acrescente uma coluna ao dataset com o escalão correspondente a cada aluno;\n",
    "* Crie uma distribuição dos alunos por escalão;\n",
    "* Crie uma função que apresenta na forma dum gráfico de linha uma distribuição;\n",
    "* Crie uma função que imprime na forma de uma tabela uma distribuição;\n",
    "* Especifique um programa que, ciclicamente, apresenta um menu com todas funcionalidades ao utilizador."
   ]
  },
  {
   "cell_type": "code",
   "execution_count": 1,
   "id": "8945205e",
   "metadata": {},
   "outputs": [
    {
     "name": "stdout",
     "output_type": "stream",
     "text": [
      "Menu de opções:\n",
      "    [1]- Lê o dataset obras\n",
      "    [2]- Distribuição dos alunos por curso\n",
      "    [3]- Calcula as médias de cada aluno e acrescenta a nova coluna ao dateset\n",
      "    [4]- Atribui um escalão a cada aluno de acordo com a sua média e acrescenta a nova coluna no dataset\n",
      "    [5]- Distribuição dos alunos por escalão\n",
      "    [6]- Gráficos das distribuições\n",
      "    [7]- Tabelas das distribuições\n",
      "A sua opção foi 2\n",
      "A distribuição dos alunos por curso é:\n",
      "{'LEI': [('a1', 'Aysha Melanie Gilberto'), ('a6', 'Eryk Clementino'), ('a10', 'Koby Vindima'), ('a12', 'Siddarta Beiriz'), ('a18', 'Saubhagya Buco'), ('a23', 'Yifan Cortinado'), ('a28', 'Itiel Quinoy'), ('a29', 'Pranika Reimoo'), ('a32', 'Ariane Sofia Foja'), ('a35', 'Siyon Anca'), ('a39', 'Victória Gabriela Incenso'), ('a47', 'Moisés João Cornelio'), ('a48', 'Nazir Assif Trinta'), ('a49', 'Karamjot Arezes'), ('a52', 'Stepfan Owusu Lercas'), ('a54', 'Dânia Lucy Montelobo'), ('a56', 'Hakeem Brazão'), ('a59', 'Emanuel Marcos Delfina'), ('a75', 'Dárcio Wosvaldo Tudela'), ('a91', 'Constança Filipa Melado'), ('a92', 'Madalena Jesus Alfaiate'), ('a95', 'Íris Soraia Chiote'), ('a100', 'Tude Searas')], 'ENGFIS': [('a2', 'Igor André Cantanhede'), ('a3', 'Laurénio Narciso'), ('a9', 'Cássia Viviane Coitã'), ('a16', 'Magna Galhardo'), ('a20', 'Vivaan Castilhos'), ('a21', 'Layana Camejo'), ('a22', 'Mahdi Menoita'), ('a24', 'Éder Sodré'), ('a25', 'Dhriti Magano'), ('a27', 'Lisandro Mariano Picassinos'), ('a30', 'Manaia Viseu'), ('a31', 'Eva Manuel Caio'), ('a37', 'Elisiário Saberio'), ('a38', 'Maira Brites'), ('a42', 'Kattleya Trigueiro'), ('a45', 'Imayame Hespanha'), ('a51', 'Iara de Jesus Gonçalo'), ('a55', 'Myla Lopez'), ('a63', 'Francisco Pedro Derresa'), ('a66', 'Genrikh Maximovich Vila-Chã'), ('a70', 'Frantceska Borreca'), ('a71', 'Derrick Urias'), ('a76', 'Zhara Couxão'), ('a80', 'Maria Carolina Josué'), ('a82', 'Evaldir Gervasio'), ('a83', 'Dolorinda Adolfo'), ('a85', 'Rómula Jeronimo'), ('a87', 'Feliciano José Avis'), ('a89', 'Victória Miguel Rosete'), ('a90', 'Tome Teroso'), ('a98', 'Guilherme Matias Almeirão'), ('a99', 'Xavier Luís Bulha')], 'LCC': [('a4', 'Jasnoor Casegas'), ('a14', 'Kaylla Pessego'), ('a17', 'Grace Isabel Patriarca'), ('a33', 'Jaime António Pauseiro'), ('a36', 'Diana Beatriz Boavista'), ('a40', 'Najua Serôdio'), ('a43', 'Tatiana Guiomar Maricoto'), ('a44', 'Mélanie Daniela Bugalhão'), ('a46', 'Yuri Gabriel Baganha'), ('a61', 'Bradley Tabau'), ('a62', 'Ahmadou Bamba Calcinha'), ('a67', 'Mayra Larissa Rolo'), ('a72', 'Ana Gabriel Quirino'), ('a77', 'Tomé Ferrito'), ('a78', 'Iasmin Paloma Chaveiro'), ('a84', 'Laudário Frasão'), ('a86', 'Clésio Rodeiro'), ('a93', 'Bivhan Reimbau'), ('a96', 'Anaïs Sintra'), ('a97', 'Salvador Banaca')], 'ENGBIOM': [('a5', 'Tawseef Rebouças'), ('a7', 'Ianna Noivo'), ('a8', 'Ayla Thaissa Reina'), ('a11', 'Gustavo Martim Hernandez'), ('a13', 'Daniela Patrícia Montes'), ('a15', 'Bianca Cristina Primitivo'), ('a19', 'Ivo Vicente Boisa'), ('a26', 'Steve Devesa'), ('a34', 'Tanisha Marzagoo'), ('a41', 'Lachezar Rosas'), ('a50', 'Rishit Justa'), ('a53', 'Abner Umbelina'), ('a57', 'Quinn Aveiro'), ('a58', 'Etienne Constentino'), ('a60', 'Mariana Catarina Ramalheira'), ('a64', 'Gil Miguel Lima'), ('a65', 'Leonor Pedro Carqueijeiro'), ('a68', 'Leandro David Dunhoo'), ('a69', 'Adele Belchior'), ('a73', 'Carolina Antoo'), ('a74', 'Vânia Sofia Porfirio'), ('a79', 'Sadagi Cruto'), ('a81', 'Quaresma Lancastre'), ('a88', 'Afonso Adriano Marca'), ('a94', 'Viviana Sofia Gaspar')]}\n",
      "\n",
      "\n",
      "O número de alunos por curso é:\n",
      "{'LEI': 23, 'ENGFIS': 32, 'LCC': 20, 'ENGBIOM': 25}\n",
      "\n",
      "\n",
      "Menu de opções:\n",
      "    [1]- Lê o dataset obras\n",
      "    [2]- Distribuição dos alunos por curso\n",
      "    [3]- Calcula as médias de cada aluno e acrescenta a nova coluna ao dateset\n",
      "    [4]- Atribui um escalão a cada aluno de acordo com a sua média e acrescenta a nova coluna no dataset\n",
      "    [5]- Distribuição dos alunos por escalão\n",
      "    [6]- Gráficos das distribuições\n",
      "    [7]- Tabelas das distribuições\n",
      "A sua opção foi 0\n",
      "Fim do programa\n"
     ]
    }
   ],
   "source": [
    "import TPC7\n",
    "alunos=TPC7.lerficheiro()\n",
    "utilizador=15\n",
    "while utilizador!=0:\n",
    "    print('''Menu de opções:\n",
    "    [1]- Lê o dataset obras\n",
    "    [2]- Distribuição dos alunos por curso\n",
    "    [3]- Calcula as médias de cada aluno e acrescenta a nova coluna ao dateset\n",
    "    [4]- Atribui um escalão a cada aluno de acordo com a sua média e acrescenta a nova coluna no dataset\n",
    "    [5]- Distribuição dos alunos por escalão\n",
    "    [6]- Gráficos das distribuições\n",
    "    [7]- Tabelas das distribuições''' )\n",
    "    utilizador=int(input('Qual opção do menu escolhe?'))\n",
    "    print('A sua opção foi', utilizador)\n",
    "    if utilizador==1:\n",
    "        print(TPC7.lerficheiro())\n",
    "    elif utilizador==2:\n",
    "        print('A distribuição dos alunos por curso é:')\n",
    "        print(TPC7.distribCurso(alunos))\n",
    "        print('\\n')\n",
    "        print('O número de alunos por curso é:')\n",
    "        print(TPC7.alcurso(alunos))\n",
    "        print('\\n')\n",
    "    elif utilizador==3:\n",
    "        print(f\"{'Média dos TPCs por alunos':-^50}\")\n",
    "        print(f\"|{'Aluno':^40}|{'Média':^7}|\")\n",
    "        al = list(TPC7.media(alunos).items())\n",
    "        for x in range(100):\n",
    "            print(f\"|{al[x][0][:38]:^40}|{al[x][1]:^7}|\")\n",
    "        TPC7.addcolumn_1(TPC7.listacomp(TPC7.paralista(TPC7.media(alunos))))\n",
    "    elif utilizador==4:\n",
    "        print(f\"{'Escalão de cada aluno':-^52}\")\n",
    "        print(f\"|{'Aluno':^40}|{'Escalão':^9}|\")\n",
    "        al = list(TPC7.grau(TPC7.lerficheiro()).items())\n",
    "        for x in range(100):\n",
    "            print(f\"|{al[x][0][:38]:^40}|{al[x][1]:^9}|\")\n",
    "        TPC7.addcolumn_1(TPC7.listacomp(TPC7.paralistag(TPC7.grau(alunos))))\n",
    "    elif utilizador==5:\n",
    "        print('A distribuição dos alunos por escalão é:')\n",
    "        print(TPC7.almedia(alunos))\n",
    "    elif utilizador==6:\n",
    "        print('''[1]- Gráfico da distribuição dos alunos por curso\n",
    "[2]- Gráfico da distribuição dos alunos por escalão''')\n",
    "        p=3\n",
    "        while p!=0:\n",
    "            p=int(input('Qual a distribuição que quer ver representada?'))\n",
    "            if p==1:\n",
    "                print(TPC7.graficoalunoscurso(TPC7.alcurso(TPC7.lerficheiro()), \"Distribuição dos alunos por curso\", \"Curso\", \"Número de alunos\"))\n",
    "            elif p==2:\n",
    "                print(TPC7.graficoalunoscurso(TPC7.almedia(TPC7.lerficheiro()), \"Distribuição dos alunos por escalão\", \"Escalão\", \"Número de alunos\"))\n",
    "        if p==0:\n",
    "            print('A opção escolhida anteriormente fechou')\n",
    "    elif utilizador==7:\n",
    "        print('''[1]- Tabela da distribuição por curso\n",
    "[2]- Tabela da distribuição por escalão''' )\n",
    "        q=3\n",
    "        while q!=0:\n",
    "            q= int(input('Qual a distribuição que quer ver tabelada?'))\n",
    "            if q==1:\n",
    "                print(f\"{'Tabela de alunos por curso':_^105}\")\n",
    "                print(TPC7.tabeladistribuicaocurso())\n",
    "            elif q==2:\n",
    "                print(f\"{'Tabela de alunos por curso':_^96}\")\n",
    "                print(TPC7.tabeladistribuicaograus())\n",
    "        if q==0:\n",
    "            print('A opção escolhida anteriormente fechou')\n",
    "print('Fim do programa')\n",
    "        "
   ]
  }
 ],
 "metadata": {
  "kernelspec": {
   "display_name": "Python 3.10.7 64-bit",
   "language": "python",
   "name": "python3"
  },
  "language_info": {
   "codemirror_mode": {
    "name": "ipython",
    "version": 3
   },
   "file_extension": ".py",
   "mimetype": "text/x-python",
   "name": "python",
   "nbconvert_exporter": "python",
   "pygments_lexer": "ipython3",
   "version": "3.10.7"
  },
  "vscode": {
   "interpreter": {
    "hash": "e16a3939e05d4836943be007319e38157f5bd6a615361bcba070558623fbf3cc"
   }
  }
 },
 "nbformat": 4,
 "nbformat_minor": 5
}
