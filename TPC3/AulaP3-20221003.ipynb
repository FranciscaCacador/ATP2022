{
 "cells": [
  {
   "cell_type": "markdown",
   "id": "1e545158",
   "metadata": {},
   "source": [
    "# Aula Prática 3 (guião)\n",
    "### Semana de 3 a 7 de Outubro de 2022\n",
    "### José Carlos Ramalho e Luís Cunha\n",
    "### Sinopsis:\n",
    "Algoritmos sobre listas."
   ]
  },
  {
   "cell_type": "markdown",
   "id": "e38d18c4-d7d7-4fea-9bc6-e3f3c903386b",
   "metadata": {},
   "source": [
    "### Exercício 1: Criar uma lista \n",
    "- Defina uma função que recebe um argumento **N** e devolve uma  lista com os números pares até **N**;\n",
    "- Crie um programa que chama a função e imprime a lista resultante."
   ]
  },
  {
   "cell_type": "code",
   "execution_count": 1,
   "id": "af973146-3bb4-4fa8-ba6c-b887b79ccff8",
   "metadata": {},
   "outputs": [
    {
     "name": "stdout",
     "output_type": "stream",
     "text": [
      "A lista resultante é: [0, 2, 4, 6, 8, 10, 12, 14, 16, 18, 20]\n"
     ]
    }
   ],
   "source": [
    "# Solução do exercício 1\n",
    "def criaLista(N):\n",
    "    lista=[]\n",
    "    i=0\n",
    "    while i<=N:\n",
    "        if i%2==0:\n",
    "            lista.append(i)\n",
    "        i=i+1\n",
    "    return lista\n",
    "print('A lista resultante é:', criaLista(20))\n"
   ]
  },
  {
   "cell_type": "markdown",
   "id": "bdcbffb0",
   "metadata": {},
   "source": [
    "### Exercício 2: Ler uma lista de N números\n",
    "- Defina uma função que recebe um argumento **N** e lê **N** números armazenando-os numa lista que é devolvida como resultado;\n",
    "- Crie um programa que chama a função e imprime a lista resultante."
   ]
  },
  {
   "cell_type": "code",
   "execution_count": 4,
   "id": "af973146-3bb4-4fa8-ba6c-b887b79ccff8",
   "metadata": {},
   "outputs": [
    {
     "name": "stdout",
     "output_type": "stream",
     "text": [
      "A lista gerada é [86, 56, 90, 55, 100, 51, 53]\n"
     ]
    }
   ],
   "source": [
    "# Solução do exercício 2\n",
    "import random\n",
    "def leLista(N):\n",
    "    lista=[]\n",
    "    i=0\n",
    "    while (i<=N):\n",
    "        a=random.randint(1,100)\n",
    "        lista.append(a)\n",
    "        i=i+1\n",
    "    return lista\n",
    "print('A lista gerada é', leLista(6))"
   ]
  },
  {
   "cell_type": "markdown",
   "id": "bdcbffb0",
   "metadata": {},
   "source": [
    "### Exercício 3: Somar uma lista de números\n",
    "- Defina uma função que recebe uma lista como argumento e devolve a soma dos números nessa lista."
   ]
  },
  {
   "cell_type": "code",
   "execution_count": 24,
   "id": "64ad6f7b",
   "metadata": {},
   "outputs": [
    {
     "name": "stdout",
     "output_type": "stream",
     "text": [
      "16\n"
     ]
    }
   ],
   "source": [
    "# Solução do exercício 3\n",
    "def somaLista(lista):\n",
    "    soma=0\n",
    "    for i in lista:\n",
    "        soma=soma+i\n",
    "    return soma\n",
    "print(somaLista([2,4,8,2]))"
   ]
  },
  {
   "cell_type": "markdown",
   "id": "bdcbffb0",
   "metadata": {},
   "source": [
    "### Exercício 4: Calcular a média duma lista de números\n",
    "- Defina uma função que recebe uma lista como argumento e devolve a média dos números nessa lista."
   ]
  },
  {
   "cell_type": "code",
   "execution_count": 22,
   "id": "a6c32b2e",
   "metadata": {},
   "outputs": [
    {
     "name": "stdout",
     "output_type": "stream",
     "text": [
      "6.4\n"
     ]
    }
   ],
   "source": [
    "# Solução do exercício 4\n",
    "def mediaLista(lista):\n",
    "    soma=0\n",
    "    quantidade=0\n",
    "    for i in lista:\n",
    "        soma=soma+i\n",
    "        quantidade=quantidade+1\n",
    "        média=soma/quantidade\n",
    "    return média\n",
    "print(mediaLista([2,4,8,6,12]))"
   ]
  },
  {
   "cell_type": "markdown",
   "id": "f41ef69b",
   "metadata": {},
   "source": [
    "### Exercício 5: Maior de uma sequência\n",
    "- Defina uma função que recebe uma lista como argumento e devolve o maior número nessa lista."
   ]
  },
  {
   "cell_type": "code",
   "execution_count": 26,
   "id": "86f5b24d",
   "metadata": {},
   "outputs": [
    {
     "name": "stdout",
     "output_type": "stream",
     "text": [
      "8\n"
     ]
    }
   ],
   "source": [
    "# Solução do exercício 5\n",
    "def maiorLista(lista):\n",
    "    maior=lista[0]\n",
    "    for i in lista:\n",
    "        if i>maior:\n",
    "            i=maior\n",
    "    return maior\n",
    "print(maiorLista([8,2,4]))"
   ]
  },
  {
   "cell_type": "markdown",
   "id": "d11cdd11",
   "metadata": {},
   "source": [
    "### Exercício 6: Menor de uma sequência\n",
    "- Defina uma função que recebe uma lista como argumento e devolve o menor número nessa lista."
   ]
  },
  {
   "cell_type": "code",
   "execution_count": 19,
   "id": "7549c7d7",
   "metadata": {},
   "outputs": [
    {
     "name": "stdout",
     "output_type": "stream",
     "text": [
      "2\n"
     ]
    }
   ],
   "source": [
    "# Solução do exercício 6\n",
    "def menorLista(lista):\n",
    "    menor=lista[0]\n",
    "    for i in lista:\n",
    "        if i< menor:\n",
    "            i=menor\n",
    "    return menor\n",
    "print(menorLista([2,4,8]))"
   ]
  },
  {
   "cell_type": "markdown",
   "id": "775a02a5",
   "metadata": {},
   "source": [
    "### Exercício 7: Contar strings\n",
    "- Defina uma função que recebe uma lista de strings como argumento e devolve número de strings nessa lista que:\n",
    "    1. Têm tamanho maior ou igual a 2;\n",
    "    2. Começam e terminam pelo mesmo caracter.\n",
    "#### Input (exemplo)\n",
    "in: ['abc', 'xyz', 'aba', '1221']\n",
    "#### Output (exemplo)\n",
    "out: 2"
   ]
  },
  {
   "cell_type": "code",
   "execution_count": 18,
   "id": "7390bc6a",
   "metadata": {},
   "outputs": [
    {
     "name": "stdout",
     "output_type": "stream",
     "text": [
      "2\n"
     ]
    }
   ],
   "source": [
    "# Solução do exercício 7\n",
    "def contarStringsLista(lista):\n",
    "    contador=0\n",
    "    for i in lista:\n",
    "        if len(i)>=2 and i[0]==i[-1]:\n",
    "            contador=contador+1\n",
    "    return contador\n",
    "print(contarStringsLista(['abc','xyz','aba','1221']))"
   ]
  },
  {
   "cell_type": "markdown",
   "id": "f9ba457b",
   "metadata": {},
   "source": [
    "### Exercício 8: Remover duplicados\n",
    "- Defina uma função que recebe uma lista como argumento e devolve uma nova lista eliminando elementos repetidos."
   ]
  },
  {
   "cell_type": "code",
   "execution_count": 17,
   "id": "0abc61e5",
   "metadata": {},
   "outputs": [
    {
     "name": "stdout",
     "output_type": "stream",
     "text": [
      "[2, 4, 5, 8, 6, 3, 1]\n"
     ]
    }
   ],
   "source": [
    "# Solução do exercício 8\n",
    "def remDupLista(lista):\n",
    "    lista2=[]\n",
    "    for i in lista:\n",
    "        if i not in lista2:\n",
    "            lista2.append(i)\n",
    "    return lista2\n",
    "print(remDupLista([2,2,4,5,8,6,6,3,1]))"
   ]
  },
  {
   "cell_type": "markdown",
   "id": "9bc471d8",
   "metadata": {},
   "source": [
    "### Exercício 9: eVazia?\n",
    "- Defina uma função que recebe uma lista como argumento e devolve um resultado booleano verdadeiro se a lista estiver vazia."
   ]
  },
  {
   "cell_type": "code",
   "execution_count": 16,
   "id": "18cf2aff",
   "metadata": {},
   "outputs": [
    {
     "name": "stdout",
     "output_type": "stream",
     "text": [
      "True\n",
      "False\n"
     ]
    }
   ],
   "source": [
    "# Solução do exercício 9\n",
    "from pickle import FALSE\n",
    "def eVazia(lista):\n",
    "    valor=False\n",
    "    if len(lista)==0:\n",
    "        valor= True\n",
    "    else:\n",
    "        valor=False\n",
    "    return valor\n",
    "print(eVazia([]))\n",
    "print(eVazia([2,4,6,8]))"
   ]
  },
  {
   "cell_type": "markdown",
   "id": "72b8fac0",
   "metadata": {},
   "source": [
    "### Exercício 10: Copiar lista\n",
    "- Defina uma função que recebe uma lista como argumento e devolve uma nova lista correspondente a uma cópia da lista recebida."
   ]
  },
  {
   "cell_type": "code",
   "execution_count": 13,
   "id": "a61ca503",
   "metadata": {},
   "outputs": [
    {
     "name": "stdout",
     "output_type": "stream",
     "text": [
      "[2, 4, 6, 8]\n"
     ]
    }
   ],
   "source": [
    "# Solução do exercício 10\n",
    "def copiarLista(lista):\n",
    "    lista2=[]\n",
    "    lista2=lista\n",
    "    return lista2\n",
    "print(copiarLista([2,4,6,8]))"
   ]
  },
  {
   "cell_type": "markdown",
   "id": "d170cc50",
   "metadata": {},
   "source": [
    "### Exercício 11: Strings maiores que n carateres\n",
    "- Defina uma função que recebe dois argumentos, uma lista de strings e um número inteiro, e que devolve uma nova lista de strings em que estas têm um comprimento igual ou superior ao valor inteiro passado como argumento."
   ]
  },
  {
   "cell_type": "code",
   "execution_count": 19,
   "id": "1944ef1d",
   "metadata": {},
   "outputs": [
    {
     "name": "stdout",
     "output_type": "stream",
     "text": [
      "['122218', 'Francisca', 'KLhak']\n"
     ]
    }
   ],
   "source": [
    "# Solução do exercício 11\n",
    "def stringsMaioresLista(lista, n):\n",
    "    lista2=[]\n",
    "    for i in lista:\n",
    "        if len(i)>=n:\n",
    "            lista2.append(i)\n",
    "    return lista2\n",
    "print(stringsMaioresLista(['122218','112','Francisca','KLhak','jps'],4))"
   ]
  },
  {
   "cell_type": "markdown",
   "id": "af46fe06",
   "metadata": {},
   "source": [
    "### Exercício 12: Comum?\n",
    "- Defina uma função que recebe duas listas como argumento, e que devolve o valor booleano verdadeiro se as listas tiverem pelo menos um elemento comum."
   ]
  },
  {
   "cell_type": "code",
   "execution_count": 4,
   "id": "7a2f4413",
   "metadata": {},
   "outputs": [
    {
     "name": "stdout",
     "output_type": "stream",
     "text": [
      "True\n",
      "False\n"
     ]
    }
   ],
   "source": [
    "# Solução do exercício 12\n",
    "def haComuns(listaA, listaB):\n",
    "    valor= False\n",
    "    for i in listaA:\n",
    "        if i in listaB:\n",
    "            valor=True\n",
    "    return valor\n",
    "print(haComuns([1,2,3,4],[1,4,8,9]))\n",
    "print(haComuns([1,2,3,4],[5,6,7,8,9]))"
   ]
  },
  {
   "cell_type": "markdown",
   "id": "061bae0e",
   "metadata": {},
   "source": [
    "### Exercício 13: Comuns\n",
    "- Defina uma função que recebe duas listas como argumento, e que devolve uma nova lista com os valores comuns às duas listas."
   ]
  },
  {
   "cell_type": "code",
   "execution_count": 7,
   "id": "02db9458",
   "metadata": {},
   "outputs": [
    {
     "name": "stdout",
     "output_type": "stream",
     "text": [
      "[2, 4, 8]\n"
     ]
    }
   ],
   "source": [
    "# Solução do exercício 13\n",
    "def comuns(listaA, listaB):\n",
    "    listaC=[]\n",
    "    for i in listaA:\n",
    "        if i in listaB:\n",
    "            listaC.append(i)\n",
    "    return listaC\n",
    "print(comuns([1,2,4,8],[2,4,8,6]))"
   ]
  },
  {
   "cell_type": "markdown",
   "id": "af4f2b11",
   "metadata": {},
   "source": [
    "### Exercício 14: Únicos\n",
    "- Defina uma função que recebe duas listas como argumento, e que devolve uma nova lista com os valores que apenas existem numa delas."
   ]
  },
  {
   "cell_type": "code",
   "execution_count": 10,
   "id": "01a0d35e",
   "metadata": {},
   "outputs": [
    {
     "name": "stdout",
     "output_type": "stream",
     "text": [
      "[1, 8, 4, 6, 3]\n"
     ]
    }
   ],
   "source": [
    "# Solução do exercício 14\n",
    "def unicos(listaA, listaB):\n",
    "    listaC=[]\n",
    "    for i in listaA:\n",
    "        if i not in listaB:\n",
    "            listaC.append(i)\n",
    "    for i in listaB:\n",
    "        if i not in listaA:\n",
    "            listaC.append(i)\n",
    "    return listaC\n",
    "print(unicos([1,2,5,8],[2,5,4,6,3]))"
   ]
  },
  {
   "cell_type": "markdown",
   "id": "2acbab46",
   "metadata": {},
   "source": [
    "### Exercício 15: indiceDe\n",
    "- Defina uma função que recebe uma lista e um elemento como argumento, e que devolve o índice desse elemento na lista. No caso do elemento não existir na lista deverá devolver o valor -1."
   ]
  },
  {
   "cell_type": "code",
   "execution_count": 6,
   "id": "3891e6c3",
   "metadata": {},
   "outputs": [
    {
     "name": "stdout",
     "output_type": "stream",
     "text": [
      "-1\n",
      "0\n",
      "1\n",
      "2\n",
      "3\n"
     ]
    }
   ],
   "source": [
    "# Solução do exercício 15\n",
    "def indiceDe(lista, elem):\n",
    "    if elem in lista:\n",
    "        return lista.index(elem)\n",
    "    else:\n",
    "        return -1\n",
    "print(indiceDe([2,4,6,8],5))\n",
    "print(indiceDe([2,4,6,8],2))\n",
    "print(indiceDe([2,4,6,8],4))\n",
    "print(indiceDe([2,4,6,8],6))\n",
    "print(indiceDe([2,4,6,8],8))"
   ]
  },
  {
   "cell_type": "markdown",
   "id": "1d9c2fbc",
   "metadata": {},
   "source": [
    "### Exercício 16: estaOrdenada\n",
    "- Defina uma função que recebe uma lista de números e verifica se a mesma está ordenada por ordem crescente."
   ]
  },
  {
   "cell_type": "code",
   "execution_count": 9,
   "id": "fb44546a",
   "metadata": {},
   "outputs": [
    {
     "name": "stdout",
     "output_type": "stream",
     "text": [
      "False\n",
      "True\n",
      "True\n"
     ]
    }
   ],
   "source": [
    "# Solução do exercício 16\n",
    "def estaOrdenada(lista):\n",
    "    crescente= True\n",
    "    decrescente= True\n",
    "    anterior=lista[0]\n",
    "    for i in lista[1:]:\n",
    "        if crescente and i<anterior:\n",
    "            crescente=False\n",
    "        if decrescente and i>anterior:\n",
    "            decrescente=False\n",
    "        if not crescente and not decrescente:\n",
    "            return False\n",
    "        anterior=i\n",
    "    return True\n",
    "print(estaOrdenada([2,28,4,44,8,22]))\n",
    "print(estaOrdenada([2,4,6,8,12]))\n",
    "print(estaOrdenada([8,6,4,2,0]))"
   ]
  },
  {
   "cell_type": "markdown",
   "id": "4c48dc90",
   "metadata": {},
   "source": [
    "### Exercício 17: estaOrdenadaCD\n",
    "- Modifique a função do exercício anterior para receber um parâmetro extra, **ordem**, que poderá ter valores \"C\" ou \"D\" e que vai verificar se a lista está ordenada por ordem crescente se **ordem=\"C\"** ou se está ordenada por ordem decrescente se **ordem=\"D\"**."
   ]
  },
  {
   "cell_type": "code",
   "execution_count": 3,
   "id": "f4b83960",
   "metadata": {},
   "outputs": [
    {
     "name": "stdout",
     "output_type": "stream",
     "text": [
      "D\n",
      "C\n",
      "desordenada\n"
     ]
    }
   ],
   "source": [
    "# Solução do exercício 16:\n",
    "ordenadoC= False\n",
    "ordenadoD= False\n",
    "def estaOrdenadaCD(lista, ordem):\n",
    "    ordem= str('desordenada')\n",
    "    for i in range (len(lista)):\n",
    "        if sorted(lista)==lista:\n",
    "            ordem= str('C')\n",
    "        if sorted(lista, reverse=True)==lista:\n",
    "            ordem= str('D')\n",
    "    return ordem\n",
    "print(estaOrdenadaCD([8,6,4,2],0))\n",
    "print(estaOrdenadaCD([2,4,6,8,12],0))\n",
    "print(estaOrdenadaCD([2,28,4,44,8,22],0))"
   ]
  },
  {
   "cell_type": "markdown",
   "id": "4193a91b",
   "metadata": {},
   "source": [
    "### TPC3: Aplicação para manipulação de listas de inteiros\n",
    "- Crie uma aplicação em Python que coloca no monitor o seguinte menu:\n",
    "    * (1) Criar Lista \n",
    "    * (2) Ler Lista\n",
    "    * (3) Soma\n",
    "    * (4) Média\n",
    "    * (5) Maior\n",
    "    * (6) Menor\n",
    "    * (7) estaOrdenada por ordem crescente\n",
    "    * (8) estaOrdenada por ordem decrescente\n",
    "    * (9) Procura um elemento\n",
    "    * (0) Sair\n",
    "- O utilizador irá escolher uma das opções introduzindo o número correspondente;\n",
    "- Se a opção não for sair, a aplicação executa a operação pretendida, apresenta o resultado e a seguir apresenta de novo o menu;\n",
    "- Se a opção for sair, a aplicação termina colocando uma mensagem no monitor.\n",
    "\n",
    "* No desenvolvimento da aplicação deverá ter em atenção o seguinte:\n",
    "    - A aplicação terá uma variável interna para guardar uma lista de números;\n",
    "    - Na opção 1, deverá ser criada uma lista de números aleatórios entre 1 e 100 que será guardada na variável interna;\n",
    "    - Na opção 2, deverá ser criada uma lista com números introduzidos pelo utilizador, que será guardada na variável interna;\n",
    "    - Nestas primeiras opções, se a variável interna já tiver uma lista, esta será sobreposta/apagada pela nova lista;\n",
    "    - Na opção 3, será calculada a soma dos elementos na lista no momento;\n",
    "    - Na opção 4, será calculada a média dos elementos na lista no momento;\n",
    "    - Na opção 5, será calculado o maior elemento da lista no momento;\n",
    "    - Na opção 6, será calculado o menor elemento da lista no momento;\n",
    "    - Na opção 7, a aplicação deverá indicar (Sim/Não) se a lista está ordenada por ordem crescente;\n",
    "    - Na opção 8, a aplicação deverá indicar (Sim/Não) se a lista está ordenada por ordem decrescente;\n",
    "    - Na opção 9, a aplicação irá procurar um ellmento na lista, se o encontrar deverá devolver a sua posição;\n",
    "    - Se o utilizador selecionar a opção 0, a aplicação deverá terminar mostrando a lista que está nesse momento guardada."
   ]
  },
  {
   "cell_type": "code",
   "execution_count": 3,
   "id": "126985dc",
   "metadata": {},
   "outputs": [
    {
     "name": "stdout",
     "output_type": "stream",
     "text": [
      "Menu:\n",
      "    [1]- Criar Lista\n",
      "    [2]- Ler Lista\n",
      "    [3]- Soma\n",
      "    [4]- Média\n",
      "    [5]- Maior\n",
      "    [6]- Menor\n",
      "    [7]- Está Ordenada por ordem crecente\n",
      "    [8]- Está Ordenada por ordem decrescente\n",
      "    [9]- Procura um elemnto\n",
      "    [0]- Sair\n",
      "A sua opção foi: 0\n",
      "Fim do programa\n",
      "A lista neste momento é [2, 4, 6, 8]\n"
     ]
    }
   ],
   "source": [
    "import random\n",
    "interna=[2,4,6,8]\n",
    "utilizador= 10\n",
    "i=0\n",
    "while utilizador!=0:\n",
    "    print('''Menu:\n",
    "    [1]- Criar Lista\n",
    "    [2]- Ler Lista\n",
    "    [3]- Soma\n",
    "    [4]- Média\n",
    "    [5]- Maior\n",
    "    [6]- Menor\n",
    "    [7]- Está Ordenada por ordem crecente\n",
    "    [8]- Está Ordenada por ordem decrescente\n",
    "    [9]- Procura um elemnto\n",
    "    [0]- Sair''')\n",
    "    utilizador= int(input('Qual das opções do menu escolhe?'))\n",
    "    print(\"A sua opção foi:\", utilizador)\n",
    "    if utilizador==1:\n",
    "        def criaLista(N):\n",
    "            i=0\n",
    "            interna.clear()\n",
    "            while (i<N):\n",
    "                a=random.randint(1,100)\n",
    "                interna.append(a)\n",
    "                i=i+1\n",
    "            return interna\n",
    "        print(criaLista(10))\n",
    "    elif utilizador==2:\n",
    "        N= int(input(\"Quantos números tem a sua lista?\"))\n",
    "        print('O número de elementos da lista é:', N)\n",
    "        def leLista(N):\n",
    "            i=0\n",
    "            interna.clear()\n",
    "            while i<N:\n",
    "                b=int(input('Números que fazem parte da lista'))\n",
    "                interna.append(b)\n",
    "                i=i+1\n",
    "            return interna\n",
    "        print('A sua lista é:', leLista(N))\n",
    "    elif utilizador==3:\n",
    "        def somaLista(interna):\n",
    "            i=0\n",
    "            soma=0\n",
    "            for i in interna:\n",
    "                soma=soma+i\n",
    "            return soma\n",
    "        print('A soma dos elementos da lista é,', somaLista(interna))\n",
    "    elif utilizador==4:\n",
    "        def mediaLista(interna):\n",
    "            soma=0\n",
    "            quantidade=0\n",
    "            for i in interna:\n",
    "                soma=soma+i\n",
    "                quantidade=quantidade+1\n",
    "                média=soma/quantidade\n",
    "            return média\n",
    "        print('A média dos elementos da lista é,', mediaLista(interna))\n",
    "    elif utilizador==5:\n",
    "        def maior(interna):\n",
    "            maior=interna[0]\n",
    "            for i in interna:\n",
    "                if i> maior:\n",
    "                    maior=i\n",
    "            return maior\n",
    "        print('O maior valor da lista é', maior(interna))\n",
    "    elif utilizador==6:\n",
    "        def menor(interna):\n",
    "            menor=interna[0]\n",
    "            for i in interna:\n",
    "                if i<menor:\n",
    "                    menor=i\n",
    "            return menor \n",
    "        print ('O menor valor da lista é', menor(interna))\n",
    "    elif utilizador==7:\n",
    "        def estaOrdenada(interna):\n",
    "            crescente= True\n",
    "            anterior=interna[0]\n",
    "            for i in interna:\n",
    "                if i<anterior:\n",
    "                    crescente=False\n",
    "                    return('Não, a lista não está ordenada por ordem crescente')            \n",
    "            return ('Sim, a lista está ordenada por ordem crescente') \n",
    "        print(estaOrdenada(interna)) \n",
    "    elif utilizador==8:\n",
    "        def estaOrdenada(interna):\n",
    "            decrescente=True\n",
    "            anterior= interna[0]\n",
    "            for i in interna:\n",
    "                if i>anterior:\n",
    "                    decrescente= False\n",
    "                    return ('Não, a lista não está ordenada por ordem decrescente')\n",
    "            return ('Sim, a lista está ordenada por ordem decrescente')\n",
    "        print(estaOrdenada(interna))\n",
    "    elif utilizador==9:\n",
    "        def indiceDe(elem):\n",
    "            elem=int(input('Escolha um elemento da lista'))\n",
    "            print(elem)\n",
    "            if elem in interna:\n",
    "                return interna.index(elem) +1\n",
    "            else:\n",
    "                return 'O elemento que escolheu não está na lista'\n",
    "        print('O indice do elemento na lista é', indiceDe(interna))\n",
    "print('Fim do programa')\n",
    "print('A lista neste momento é', interna)"
   ]
  }
 ],
 "metadata": {
  "kernelspec": {
   "display_name": "Python 3.10.7 64-bit (system)",
   "language": "python",
   "name": "python3"
  },
  "language_info": {
   "codemirror_mode": {
    "name": "ipython",
    "version": 3
   },
   "file_extension": ".py",
   "mimetype": "text/x-python",
   "name": "python",
   "nbconvert_exporter": "python",
   "pygments_lexer": "ipython3",
   "version": "3.10.7"
  },
  "vscode": {
   "interpreter": {
    "hash": "e16a3939e05d4836943be007319e38157f5bd6a615361bcba070558623fbf3cc"
   }
  }
 },
 "nbformat": 4,
 "nbformat_minor": 5
}
